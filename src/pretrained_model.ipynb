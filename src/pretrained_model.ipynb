{
 "cells": [
  {
   "cell_type": "code",
   "execution_count": 62,
   "metadata": {},
   "outputs": [],
   "source": [
    "import data_provider\n",
    "import data_transformers\n",
    "from data_provider import *\n",
    "import configs\n",
    "from configs import CONFIG\n",
    "import importlib\n",
    "import os\n",
    "\n",
    "import lightgbm as lgb"
   ]
  },
  {
   "cell_type": "code",
   "execution_count": 63,
   "metadata": {},
   "outputs": [
    {
     "ename": "ModuleNotFoundError",
     "evalue": "spec not found for the module 'data_transformers'",
     "output_type": "error",
     "traceback": [
      "\u001b[1;31m---------------------------------------------------------------------------\u001b[0m",
      "\u001b[1;31mModuleNotFoundError\u001b[0m                       Traceback (most recent call last)",
      "Cell \u001b[1;32mIn[63], line 2\u001b[0m\n\u001b[0;32m      1\u001b[0m importlib\u001b[38;5;241m.\u001b[39mreload(data_provider)\n\u001b[1;32m----> 2\u001b[0m \u001b[43mimportlib\u001b[49m\u001b[38;5;241;43m.\u001b[39;49m\u001b[43mreload\u001b[49m\u001b[43m(\u001b[49m\u001b[43mdata_transformers\u001b[49m\u001b[43m)\u001b[49m\n\u001b[0;32m      3\u001b[0m importlib\u001b[38;5;241m.\u001b[39mreload(configs)\n",
      "File \u001b[1;32mc:\\Users\\Tawan\\AppData\\Local\\Programs\\Python\\Python312\\Lib\\importlib\\__init__.py:130\u001b[0m, in \u001b[0;36mreload\u001b[1;34m(module)\u001b[0m\n\u001b[0;32m    128\u001b[0m spec \u001b[38;5;241m=\u001b[39m module\u001b[38;5;241m.\u001b[39m__spec__ \u001b[38;5;241m=\u001b[39m _bootstrap\u001b[38;5;241m.\u001b[39m_find_spec(name, pkgpath, target)\n\u001b[0;32m    129\u001b[0m \u001b[38;5;28;01mif\u001b[39;00m spec \u001b[38;5;129;01mis\u001b[39;00m \u001b[38;5;28;01mNone\u001b[39;00m:\n\u001b[1;32m--> 130\u001b[0m     \u001b[38;5;28;01mraise\u001b[39;00m \u001b[38;5;167;01mModuleNotFoundError\u001b[39;00m(\u001b[38;5;124mf\u001b[39m\u001b[38;5;124m\"\u001b[39m\u001b[38;5;124mspec not found for the module \u001b[39m\u001b[38;5;132;01m{\u001b[39;00mname\u001b[38;5;132;01m!r}\u001b[39;00m\u001b[38;5;124m\"\u001b[39m, name\u001b[38;5;241m=\u001b[39mname)\n\u001b[0;32m    131\u001b[0m _bootstrap\u001b[38;5;241m.\u001b[39m_exec(spec, module)\n\u001b[0;32m    132\u001b[0m \u001b[38;5;66;03m# The module may have replaced itself in sys.modules!\u001b[39;00m\n",
      "\u001b[1;31mModuleNotFoundError\u001b[0m: spec not found for the module 'data_transformers'"
     ]
    }
   ],
   "source": [
    "importlib.reload(data_provider)\n",
    "importlib.reload(data_transformers)\n",
    "importlib.reload(configs)"
   ]
  },
  {
   "cell_type": "code",
   "execution_count": null,
   "metadata": {},
   "outputs": [
    {
     "name": "stdout",
     "output_type": "stream",
     "text": [
      "Current working directory:  d:\\Documents\\machinelearning\\cgm-paper\\src\n"
     ]
    }
   ],
   "source": [
    "#os.chdir(\"../../\")\n",
    "print(\"Current working directory: \", os.getcwd())"
   ]
  },
  {
   "cell_type": "code",
   "execution_count": null,
   "metadata": {},
   "outputs": [
    {
     "name": "stdout",
     "output_type": "stream",
     "text": [
      "Found 22 files in ../data/raw\n",
      "Loaded 22/22 files\n",
      "Data processing complete\n"
     ]
    }
   ],
   "source": [
    "dataProvider = DataProvider(CONFIG.get(\"DIR_PATH\"))"
   ]
  },
  {
   "cell_type": "code",
   "execution_count": null,
   "metadata": {},
   "outputs": [],
   "source": [
    "all_data = dataProvider.get_all_data()"
   ]
  },
  {
   "cell_type": "code",
   "execution_count": null,
   "metadata": {},
   "outputs": [],
   "source": [
    "model = lgb.LGBMRegressor(verbose=-1)"
   ]
  },
  {
   "cell_type": "code",
   "execution_count": null,
   "metadata": {},
   "outputs": [],
   "source": [
    "def fit_model(model, dataset):\n",
    "    trainX, trainY = combine_data(dataset, \"train\")\n",
    "    testX, testY = combine_data(dataset, \"test\")\n",
    "    model.fit(trainX, trainY)\n",
    "    return model"
   ]
  },
  {
   "cell_type": "code",
   "execution_count": null,
   "metadata": {},
   "outputs": [],
   "source": [
    "fit_model()"
   ]
  },
  {
   "cell_type": "code",
   "execution_count": null,
   "metadata": {},
   "outputs": [],
   "source": [
    "def tune_model(model, trainX, trainY, testX, testY):\n",
    "    try:\n",
    "        # Before Tuning\n",
    "        initial_score = model.score(testX, testY)\n",
    "        print(f\"Initial model score: {initial_score}\")\n",
    "    except Exception as e:\n",
    "        print(f\"Failed to score model: {e}\")\n",
    "        return\n",
    "\n",
    "    try:\n",
    "        # Tune\n",
    "        model.fit(trainX, trainY)\n",
    "    except Exception as e:\n",
    "        print(f\"Failed to fit model: {e}\")\n",
    "        return\n",
    "\n",
    "    try:\n",
    "        tuned_score = model.score(testX, testY)\n",
    "        print(f\"Tuned model score: {tuned_score}\")\n",
    "    except Exception as e:\n",
    "        print(f\"Failed to score model: {e}\")\n",
    "        return\n",
    "\n",
    "    return model"
   ]
  },
  {
   "cell_type": "code",
   "execution_count": null,
   "metadata": {},
   "outputs": [],
   "source": [
    "test_file = \"..\\\\data\\\\tuning\\\\ohio596_Testing.txt\"\n",
    "train_file = \"..\\\\data\\\\tuning\\\\ohio596_Training.txt\""
   ]
  },
  {
   "cell_type": "code",
   "execution_count": null,
   "metadata": {},
   "outputs": [],
   "source": [
    "def train(train_dir, test_dir):\n",
    "    assert os.path.exists(test_dir), f\"Test directory does not exist: {test_dir}\"\n",
    "    assert os.path.exists(train_dir), f\"Train directory does not exist: {train_dir}\"\n",
    "    return"
   ]
  },
  {
   "cell_type": "code",
   "execution_count": null,
   "metadata": {},
   "outputs": [],
   "source": [
    "\n",
    "test = dataProvider.process_single_file(test_file)\n",
    "train = dataProvider.process_single_file(train_file)\n",
    "\n",
    "trainX, trainY = dataProvider.splitXY(train)\n",
    "testX, testY = dataProvider.splitXY(test)"
   ]
  }
 ],
 "metadata": {
  "kernelspec": {
   "display_name": "Python 3",
   "language": "python",
   "name": "python3"
  },
  "language_info": {
   "codemirror_mode": {
    "name": "ipython",
    "version": 3
   },
   "file_extension": ".py",
   "mimetype": "text/x-python",
   "name": "python",
   "nbconvert_exporter": "python",
   "pygments_lexer": "ipython3",
   "version": "3.12.2"
  }
 },
 "nbformat": 4,
 "nbformat_minor": 2
}
