{
 "cells": [
  {
   "cell_type": "code",
   "execution_count": 1,
   "metadata": {},
   "outputs": [],
   "source": [
    "import pandas as pd"
   ]
  },
  {
   "cell_type": "code",
   "execution_count": 4,
   "metadata": {},
   "outputs": [
    {
     "data": {
      "text/plain": [
       "Index(['Time', 'CGM', 'basal_insulin', 'bolus_insulin', 'CHO', 'sleep', 'work',\n",
       "       'stressors', 'hypo_event', 'illness', 'exercise', 'basis_gsr',\n",
       "       'basis_skin_temperature', 'acceleration', 'is_breakfast', 'is_lunch',\n",
       "       'is_dinner', 'is_hypotreatment', 'is_snack', 'der', 'slope', 't_h180',\n",
       "       't_h250', 'pce', 'COB', 'pie', 'IOB', 'ic', 'ic_pe', 'ic_OB',\n",
       "       'ic_w_bolus', 'icob', 'dcob', 'gfm', 'ifm', 'gxi', 'gxc', 'isHyper',\n",
       "       'hour_of_day', 'SR', 'DR', 'exercise_ob_1st', 'exercise_ob_2nd'],\n",
       "      dtype='object')"
      ]
     },
     "execution_count": 4,
     "metadata": {},
     "output_type": "execute_result"
    }
   ],
   "source": [
    "pd.read_csv(\"../data/raw/ohio540_Testing.txt\").head().columns"
   ]
  }
 ],
 "metadata": {
  "kernelspec": {
   "display_name": "Python 3",
   "language": "python",
   "name": "python3"
  },
  "language_info": {
   "codemirror_mode": {
    "name": "ipython",
    "version": 3
   },
   "file_extension": ".py",
   "mimetype": "text/x-python",
   "name": "python",
   "nbconvert_exporter": "python",
   "pygments_lexer": "ipython3",
   "version": "3.12.2"
  }
 },
 "nbformat": 4,
 "nbformat_minor": 2
}
