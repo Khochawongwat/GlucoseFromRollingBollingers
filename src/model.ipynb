{
 "cells": [
  {
   "cell_type": "code",
   "execution_count": 2704,
   "metadata": {},
   "outputs": [],
   "source": [
    "import importlib\n",
    "import utils\n",
    "import transformers\n",
    "import models\n",
    "import losses"
   ]
  },
  {
   "cell_type": "code",
   "execution_count": 2705,
   "metadata": {},
   "outputs": [],
   "source": [
    "from models import *\n",
    "from utils import *"
   ]
  },
  {
   "cell_type": "code",
   "execution_count": 2706,
   "metadata": {},
   "outputs": [
    {
     "data": {
      "text/plain": [
       "<module 'losses' from 'd:\\\\Documents\\\\machinelearning\\\\cgm-paper\\\\src\\\\losses.py'>"
      ]
     },
     "execution_count": 2706,
     "metadata": {},
     "output_type": "execute_result"
    }
   ],
   "source": [
    "importlib.reload(utils)\n",
    "importlib.reload(transformers)\n",
    "importlib.reload(models)\n",
    "importlib.reload(losses)"
   ]
  },
  {
   "cell_type": "code",
   "execution_count": 2707,
   "metadata": {},
   "outputs": [
    {
     "name": "stdout",
     "output_type": "stream",
     "text": [
      "Current working directory:  d:\\Documents\\machinelearning\\cgm-paper\\src\n"
     ]
    }
   ],
   "source": [
    "print(\"Current working directory: \", os.getcwd())"
   ]
  },
  {
   "cell_type": "code",
   "execution_count": 2708,
   "metadata": {},
   "outputs": [],
   "source": [
    "raw_dir = \"../data/raw\"\n",
    "tuning_dir = \"../data/tuning\""
   ]
  },
  {
   "cell_type": "code",
   "execution_count": 2709,
   "metadata": {},
   "outputs": [],
   "source": [
    "assert os.path.exists(raw_dir), \"Raw data directory not found\"\n",
    "assert os.path.exists(tuning_dir), \"Tuning data directory not found\""
   ]
  },
  {
   "cell_type": "code",
   "execution_count": 2710,
   "metadata": {},
   "outputs": [
    {
     "name": "stdout",
     "output_type": "stream",
     "text": [
      "Found 22 files in ../data/raw\n",
      "train (139415, 47)\n",
      "test (32912, 47)\n"
     ]
    }
   ],
   "source": [
    "dataset = load_data(raw_dir)"
   ]
  },
  {
   "cell_type": "code",
   "execution_count": 2711,
   "metadata": {},
   "outputs": [
    {
     "name": "stdout",
     "output_type": "stream",
     "text": [
      "Found 2 files in ../data/tuning\n",
      "train (13630, 43)\n",
      "test (3002, 43)\n"
     ]
    }
   ],
   "source": [
    "val_dataset = load_data(tuning_dir)"
   ]
  },
  {
   "cell_type": "code",
   "execution_count": 2712,
   "metadata": {},
   "outputs": [],
   "source": [
    "for key in dataset.keys():\n",
    "    val_dataset[key] = reduce_classes(val_dataset[key])\n",
    "    dataset[key] = reduce_classes(dataset[key])"
   ]
  },
  {
   "cell_type": "code",
   "execution_count": 2713,
   "metadata": {},
   "outputs": [
    {
     "data": {
      "text/plain": [
       "0"
      ]
     },
     "execution_count": 2713,
     "metadata": {},
     "output_type": "execute_result"
    }
   ],
   "source": [
    "dataset.get(\"train\")['Time'].isnull().sum()"
   ]
  },
  {
   "cell_type": "code",
   "execution_count": 2714,
   "metadata": {},
   "outputs": [
    {
     "name": "stdout",
     "output_type": "stream",
     "text": [
      "      CGM  month  day  hour  minute  weekday  year  cgm_velo  CGM(1)  CGM(2)  \\\n",
      "6    71.0      5   19    12       5        2  2027  0.010000    66.0    64.5   \n",
      "7    78.0      5   19    12      10        2  2027  0.016667    71.0    68.5   \n",
      "8    90.0      5   19    12      15        2  2027  0.023333    78.0    74.5   \n",
      "9    99.0      5   19    12      20        2  2027  0.040000    90.0    84.0   \n",
      "10  110.0      5   19    12      25        2  2027  0.030000    99.0    94.5   \n",
      "\n",
      "       CGM(3)  CGM(4)  CGM(5)     CGM(6)  \n",
      "6   64.666667   65.50    66.8  68.333333  \n",
      "7   66.666667   66.25    66.6  67.500000  \n",
      "8   71.666667   69.50    68.6  68.500000  \n",
      "9   79.666667   76.25    73.6  72.166667  \n",
      "10  89.000000   84.50    80.8  77.833333  \n"
     ]
    }
   ],
   "source": [
    "train_data = get_train_dataset(dataset['train'])\n",
    "test_data = get_any_dataset(dataset['test'], dataset['train'])"
   ]
  },
  {
   "cell_type": "markdown",
   "metadata": {},
   "source": [
    "The tuning data will be merged with the training data and be fitted into the pipeline to be used for the validation data"
   ]
  },
  {
   "cell_type": "code",
   "execution_count": 2715,
   "metadata": {},
   "outputs": [],
   "source": [
    "tuning_data = get_tuning_dataset(val_dataset['train'], dataset['train'])\n",
    "val_data = get_any_dataset(val_dataset['test'], tuning_data)"
   ]
  },
  {
   "cell_type": "code",
   "execution_count": 2716,
   "metadata": {},
   "outputs": [],
   "source": [
    "models = Models()"
   ]
  },
  {
   "cell_type": "code",
   "execution_count": 2717,
   "metadata": {},
   "outputs": [
    {
     "data": {
      "text/plain": [
       "((123697, 13), (123697,))"
      ]
     },
     "execution_count": 2717,
     "metadata": {},
     "output_type": "execute_result"
    }
   ],
   "source": [
    "trainX, trainY = train_data.drop([\"CGM\"], axis = 1), train_data[\"CGM\"]\n",
    "trainX.shape, trainY.shape"
   ]
  },
  {
   "cell_type": "code",
   "execution_count": 2718,
   "metadata": {},
   "outputs": [
    {
     "data": {
      "text/plain": [
       "((28455, 13), (28455,))"
      ]
     },
     "execution_count": 2718,
     "metadata": {},
     "output_type": "execute_result"
    }
   ],
   "source": [
    "testX, testY = test_data.drop([\"CGM\"], axis = 1), test_data[\"CGM\"]\n",
    "testX.shape, testY.shape"
   ]
  },
  {
   "cell_type": "code",
   "execution_count": 2719,
   "metadata": {},
   "outputs": [
    {
     "name": "stderr",
     "output_type": "stream",
     "text": [
      " 50%|█████     | 1/2 [00:00<00:00,  4.55it/s]"
     ]
    },
    {
     "name": "stdout",
     "output_type": "stream",
     "text": [
      "XGBoost MSE: 21.51547536159897, RMSE: 4.638477698728212, MSPE: 0.08906777857048373 %\n"
     ]
    },
    {
     "name": "stderr",
     "output_type": "stream",
     "text": [
      "100%|██████████| 2/2 [00:00<00:00,  4.03it/s]"
     ]
    },
    {
     "name": "stdout",
     "output_type": "stream",
     "text": [
      "LightGBM MSE: 18.87707479282781, RMSE: 4.344775574506445, MSPE: 0.08473398002636034 %\n"
     ]
    },
    {
     "name": "stderr",
     "output_type": "stream",
     "text": [
      "\n"
     ]
    },
    {
     "data": {
      "text/html": [
       "<div>\n",
       "<style scoped>\n",
       "    .dataframe tbody tr th:only-of-type {\n",
       "        vertical-align: middle;\n",
       "    }\n",
       "\n",
       "    .dataframe tbody tr th {\n",
       "        vertical-align: top;\n",
       "    }\n",
       "\n",
       "    .dataframe thead th {\n",
       "        text-align: right;\n",
       "    }\n",
       "</style>\n",
       "<table border=\"1\" class=\"dataframe\">\n",
       "  <thead>\n",
       "    <tr style=\"text-align: right;\">\n",
       "      <th></th>\n",
       "      <th>pred</th>\n",
       "    </tr>\n",
       "  </thead>\n",
       "  <tbody>\n",
       "    <tr>\n",
       "      <th>0</th>\n",
       "      <td>229.636082</td>\n",
       "    </tr>\n",
       "    <tr>\n",
       "      <th>1</th>\n",
       "      <td>224.727580</td>\n",
       "    </tr>\n",
       "    <tr>\n",
       "      <th>2</th>\n",
       "      <td>219.627969</td>\n",
       "    </tr>\n",
       "    <tr>\n",
       "      <th>3</th>\n",
       "      <td>216.462320</td>\n",
       "    </tr>\n",
       "    <tr>\n",
       "      <th>4</th>\n",
       "      <td>213.385734</td>\n",
       "    </tr>\n",
       "    <tr>\n",
       "      <th>...</th>\n",
       "      <td>...</td>\n",
       "    </tr>\n",
       "    <tr>\n",
       "      <th>28450</th>\n",
       "      <td>148.209496</td>\n",
       "    </tr>\n",
       "    <tr>\n",
       "      <th>28451</th>\n",
       "      <td>147.706847</td>\n",
       "    </tr>\n",
       "    <tr>\n",
       "      <th>28452</th>\n",
       "      <td>146.560511</td>\n",
       "    </tr>\n",
       "    <tr>\n",
       "      <th>28453</th>\n",
       "      <td>154.163890</td>\n",
       "    </tr>\n",
       "    <tr>\n",
       "      <th>28454</th>\n",
       "      <td>147.433327</td>\n",
       "    </tr>\n",
       "  </tbody>\n",
       "</table>\n",
       "<p>28455 rows × 1 columns</p>\n",
       "</div>"
      ],
      "text/plain": [
       "             pred\n",
       "0      229.636082\n",
       "1      224.727580\n",
       "2      219.627969\n",
       "3      216.462320\n",
       "4      213.385734\n",
       "...           ...\n",
       "28450  148.209496\n",
       "28451  147.706847\n",
       "28452  146.560511\n",
       "28453  154.163890\n",
       "28454  147.433327\n",
       "\n",
       "[28455 rows x 1 columns]"
      ]
     },
     "execution_count": 2719,
     "metadata": {},
     "output_type": "execute_result"
    }
   ],
   "source": [
    "models.fit(trainX, trainY, testX, testY)"
   ]
  },
  {
   "cell_type": "code",
   "execution_count": 2720,
   "metadata": {},
   "outputs": [],
   "source": [
    "N = 3"
   ]
  },
  {
   "cell_type": "code",
   "execution_count": 2721,
   "metadata": {},
   "outputs": [],
   "source": [
    "forecastX, forecastY = testX.iloc[:N], testY.iloc[N-1:N*2-1]"
   ]
  },
  {
   "cell_type": "code",
   "execution_count": 2722,
   "metadata": {},
   "outputs": [],
   "source": [
    "testX.reset_index(drop = True, inplace = True)"
   ]
  },
  {
   "cell_type": "code",
   "execution_count": 2723,
   "metadata": {},
   "outputs": [],
   "source": [
    "testset = testX.copy()\n",
    "testset.loc[:, \"truth\"] = testY"
   ]
  },
  {
   "cell_type": "code",
   "execution_count": 2724,
   "metadata": {},
   "outputs": [
    {
     "name": "stderr",
     "output_type": "stream",
     "text": [
      " 50%|█████     | 1/2 [00:00<00:00,  3.41it/s]"
     ]
    },
    {
     "name": "stdout",
     "output_type": "stream",
     "text": [
      "XGBoost MSE: 21.51547536159897, RMSE: 4.638477698728212, MSPE: 0.08906777857048373 %\n"
     ]
    },
    {
     "name": "stderr",
     "output_type": "stream",
     "text": [
      "100%|██████████| 2/2 [00:00<00:00,  3.43it/s]"
     ]
    },
    {
     "name": "stdout",
     "output_type": "stream",
     "text": [
      "LightGBM MSE: 18.87707479282781, RMSE: 4.344775574506445, MSPE: 0.08473398002636034 %\n"
     ]
    },
    {
     "name": "stderr",
     "output_type": "stream",
     "text": [
      "\n"
     ]
    }
   ],
   "source": [
    "best_preds = models.fit(trainX, trainY, testX, testY)\n",
    "best_preds[\"truth\"] = testY"
   ]
  },
  {
   "cell_type": "code",
   "execution_count": 2725,
   "metadata": {},
   "outputs": [
    {
     "data": {
      "image/png": "[encoded data removed]",
      "text/plain": [
       "<Figure size 400x400 with 1 Axes>"
      ]
     },
     "metadata": {},
     "output_type": "display_data"
    },
    {
     "name": "stdout",
     "output_type": "stream",
     "text": [
      "XGBoost MSE: 3.7410838357172906, RMSE: 1.9341881593364412, MSPE: nan %\n"
     ]
    },
    {
     "data": {
      "image/png": "[encoded data removed]",
      "text/plain": [
       "<Figure size 400x400 with 1 Axes>"
      ]
     },
     "metadata": {},
     "output_type": "display_data"
    },
    {
     "name": "stdout",
     "output_type": "stream",
     "text": [
      "LightGBM MSE: 165.80310707667618, RMSE: 12.876455532353466, MSPE: nan %\n"
     ]
    }
   ],
   "source": [
    "forecasts = models.forecast(forecastX, forecastY, N)"
   ]
  }
 ],
 "metadata": {
  "kernelspec": {
   "display_name": "Python 3",
   "language": "python",
   "name": "python3"
  },
  "language_info": {
   "codemirror_mode": {
    "name": "ipython",
    "version": 3
   },
   "file_extension": ".py",
   "mimetype": "text/x-python",
   "name": "python",
   "nbconvert_exporter": "python",
   "pygments_lexer": "ipython3",
   "version": "3.12.2"
  }
 },
 "nbformat": 4,
 "nbformat_minor": 2
}
