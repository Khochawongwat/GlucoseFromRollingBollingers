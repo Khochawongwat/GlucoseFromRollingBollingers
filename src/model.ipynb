{
 "cells": [
  {
   "cell_type": "code",
   "execution_count": 1380,
   "metadata": {},
   "outputs": [],
   "source": [
    "import importlib\n",
    "import utils\n",
    "import transformers\n",
    "import model\n",
    "import losses"
   ]
  },
  {
   "cell_type": "code",
   "execution_count": 1381,
   "metadata": {},
   "outputs": [],
   "source": [
    "from model import *\n",
    "from utils import *"
   ]
  },
  {
   "cell_type": "code",
   "execution_count": 1382,
   "metadata": {},
   "outputs": [
    {
     "data": {
      "text/plain": [
       "<module 'losses' from 'd:\\\\Documents\\\\machinelearning\\\\cgm-paper\\\\src\\\\losses.py'>"
      ]
     },
     "execution_count": 1382,
     "metadata": {},
     "output_type": "execute_result"
    }
   ],
   "source": [
    "importlib.reload(utils)\n",
    "importlib.reload(transformers)\n",
    "importlib.reload(model)\n",
    "importlib.reload(losses)"
   ]
  },
  {
   "cell_type": "code",
   "execution_count": 1383,
   "metadata": {},
   "outputs": [
    {
     "name": "stdout",
     "output_type": "stream",
     "text": [
      "Current working directory:  d:\\Documents\\machinelearning\\cgm-paper\\src\n"
     ]
    }
   ],
   "source": [
    "print(\"Current working directory: \", os.getcwd())"
   ]
  },
  {
   "cell_type": "code",
   "execution_count": 1384,
   "metadata": {},
   "outputs": [],
   "source": [
    "raw_dir = \"../data/raw\"\n",
    "tuning_dir = \"../data/tuning\""
   ]
  },
  {
   "cell_type": "code",
   "execution_count": 1385,
   "metadata": {},
   "outputs": [],
   "source": [
    "assert os.path.exists(raw_dir), \"Raw data directory not found\"\n",
    "assert os.path.exists(tuning_dir), \"Tuning data directory not found\""
   ]
  },
  {
   "cell_type": "code",
   "execution_count": 1386,
   "metadata": {},
   "outputs": [
    {
     "name": "stdout",
     "output_type": "stream",
     "text": [
      "Found 22 files in ../data/raw\n",
      "train (139415, 47)\n",
      "test (32912, 47)\n"
     ]
    }
   ],
   "source": [
    "dataset = load_data(raw_dir)"
   ]
  },
  {
   "cell_type": "code",
   "execution_count": 1387,
   "metadata": {},
   "outputs": [
    {
     "name": "stdout",
     "output_type": "stream",
     "text": [
      "Found 2 files in ../data/tuning\n",
      "train (13630, 43)\n",
      "test (3002, 43)\n"
     ]
    }
   ],
   "source": [
    "val_dataset = load_data(tuning_dir)"
   ]
  },
  {
   "cell_type": "code",
   "execution_count": 1388,
   "metadata": {},
   "outputs": [],
   "source": [
    "for key in dataset.keys():\n",
    "    val_dataset[key] = reduce_classes(val_dataset[key])\n",
    "    dataset[key] = reduce_classes(dataset[key])"
   ]
  },
  {
   "cell_type": "code",
   "execution_count": 1389,
   "metadata": {},
   "outputs": [
    {
     "data": {
      "text/plain": [
       "0"
      ]
     },
     "execution_count": 1389,
     "metadata": {},
     "output_type": "execute_result"
    }
   ],
   "source": [
    "dataset.get(\"train\")['Time'].isnull().sum()"
   ]
  },
  {
   "cell_type": "code",
   "execution_count": 1390,
   "metadata": {},
   "outputs": [
    {
     "name": "stdout",
     "output_type": "stream",
     "text": [
      "      CGM  month  day  hour  minute  weekday  year  cgm_velo  change  \\\n",
      "24  129.0      5   19    13      35        2  2027  0.003333     1.0   \n",
      "25  127.0      5   19    13      40        2  2027  0.000000     0.0   \n",
      "26  124.0      5   19    13      45        2  2027 -0.006667    -2.0   \n",
      "27  123.0      5   19    13      50        2  2027 -0.010000    -3.0   \n",
      "28  124.0      5   19    13      55        2  2027 -0.003333    -1.0   \n",
      "\n",
      "    upper_band  ...  extreme_CGM_80  extreme_CGM_85  extreme_CGM_90  \\\n",
      "24  198.092207  ...               0               0               0   \n",
      "25  198.840303  ...               0               0               0   \n",
      "26  198.288080  ...               0               0               0   \n",
      "27  196.078435  ...               0               0               0   \n",
      "28  192.197842  ...               0               0               0   \n",
      "\n",
      "    extreme_CGM_95  wCGM(1)     wCGM(2)     wCGM(3)  wCGM(4)     wCGM(5)  \\\n",
      "24               0    129.0  128.333333  127.666667    127.8  126.866667   \n",
      "25               0    129.0  129.000000  128.500000    127.9  127.933333   \n",
      "26               0    127.0  128.333333  128.666667    128.4  127.933333   \n",
      "27               0    124.0  126.000000  127.500000    128.1  128.066667   \n",
      "28               0    123.0  123.666667  125.333333    126.8  127.533333   \n",
      "\n",
      "       wCGM(6)  \n",
      "24  129.476190  \n",
      "25  127.095238  \n",
      "26  127.952381  \n",
      "27  127.761905  \n",
      "28  127.666667  \n",
      "\n",
      "[5 rows x 21 columns]\n"
     ]
    }
   ],
   "source": [
    "train_data = get_train_dataset(dataset['train'])\n",
    "test_data = get_any_dataset(dataset['test'], dataset['train'])"
   ]
  },
  {
   "cell_type": "code",
   "execution_count": 1391,
   "metadata": {},
   "outputs": [
    {
     "data": {
      "text/html": [
       "<div>\n",
       "<style scoped>\n",
       "    .dataframe tbody tr th:only-of-type {\n",
       "        vertical-align: middle;\n",
       "    }\n",
       "\n",
       "    .dataframe tbody tr th {\n",
       "        vertical-align: top;\n",
       "    }\n",
       "\n",
       "    .dataframe thead th {\n",
       "        text-align: right;\n",
       "    }\n",
       "</style>\n",
       "<table border=\"1\" class=\"dataframe\">\n",
       "  <thead>\n",
       "    <tr style=\"text-align: right;\">\n",
       "      <th></th>\n",
       "      <th>CGM</th>\n",
       "      <th>month</th>\n",
       "      <th>day</th>\n",
       "      <th>hour</th>\n",
       "      <th>minute</th>\n",
       "      <th>weekday</th>\n",
       "      <th>year</th>\n",
       "      <th>cgm_velo</th>\n",
       "      <th>change</th>\n",
       "      <th>upper_band</th>\n",
       "      <th>...</th>\n",
       "      <th>extreme_CGM_80</th>\n",
       "      <th>extreme_CGM_85</th>\n",
       "      <th>extreme_CGM_90</th>\n",
       "      <th>extreme_CGM_95</th>\n",
       "      <th>wCGM(1)</th>\n",
       "      <th>wCGM(2)</th>\n",
       "      <th>wCGM(3)</th>\n",
       "      <th>wCGM(4)</th>\n",
       "      <th>wCGM(5)</th>\n",
       "      <th>wCGM(6)</th>\n",
       "    </tr>\n",
       "  </thead>\n",
       "  <tbody>\n",
       "    <tr>\n",
       "      <th>24</th>\n",
       "      <td>129.0</td>\n",
       "      <td>5</td>\n",
       "      <td>19</td>\n",
       "      <td>13</td>\n",
       "      <td>35</td>\n",
       "      <td>2</td>\n",
       "      <td>2027</td>\n",
       "      <td>0.003333</td>\n",
       "      <td>1.0</td>\n",
       "      <td>198.092207</td>\n",
       "      <td>...</td>\n",
       "      <td>0</td>\n",
       "      <td>0</td>\n",
       "      <td>0</td>\n",
       "      <td>0</td>\n",
       "      <td>129.0</td>\n",
       "      <td>128.333333</td>\n",
       "      <td>127.666667</td>\n",
       "      <td>127.8</td>\n",
       "      <td>126.866667</td>\n",
       "      <td>129.476190</td>\n",
       "    </tr>\n",
       "    <tr>\n",
       "      <th>25</th>\n",
       "      <td>127.0</td>\n",
       "      <td>5</td>\n",
       "      <td>19</td>\n",
       "      <td>13</td>\n",
       "      <td>40</td>\n",
       "      <td>2</td>\n",
       "      <td>2027</td>\n",
       "      <td>0.000000</td>\n",
       "      <td>0.0</td>\n",
       "      <td>198.840303</td>\n",
       "      <td>...</td>\n",
       "      <td>0</td>\n",
       "      <td>0</td>\n",
       "      <td>0</td>\n",
       "      <td>0</td>\n",
       "      <td>129.0</td>\n",
       "      <td>129.000000</td>\n",
       "      <td>128.500000</td>\n",
       "      <td>127.9</td>\n",
       "      <td>127.933333</td>\n",
       "      <td>127.095238</td>\n",
       "    </tr>\n",
       "    <tr>\n",
       "      <th>26</th>\n",
       "      <td>124.0</td>\n",
       "      <td>5</td>\n",
       "      <td>19</td>\n",
       "      <td>13</td>\n",
       "      <td>45</td>\n",
       "      <td>2</td>\n",
       "      <td>2027</td>\n",
       "      <td>-0.006667</td>\n",
       "      <td>-2.0</td>\n",
       "      <td>198.288080</td>\n",
       "      <td>...</td>\n",
       "      <td>0</td>\n",
       "      <td>0</td>\n",
       "      <td>0</td>\n",
       "      <td>0</td>\n",
       "      <td>127.0</td>\n",
       "      <td>128.333333</td>\n",
       "      <td>128.666667</td>\n",
       "      <td>128.4</td>\n",
       "      <td>127.933333</td>\n",
       "      <td>127.952381</td>\n",
       "    </tr>\n",
       "    <tr>\n",
       "      <th>27</th>\n",
       "      <td>123.0</td>\n",
       "      <td>5</td>\n",
       "      <td>19</td>\n",
       "      <td>13</td>\n",
       "      <td>50</td>\n",
       "      <td>2</td>\n",
       "      <td>2027</td>\n",
       "      <td>-0.010000</td>\n",
       "      <td>-3.0</td>\n",
       "      <td>196.078435</td>\n",
       "      <td>...</td>\n",
       "      <td>0</td>\n",
       "      <td>0</td>\n",
       "      <td>0</td>\n",
       "      <td>0</td>\n",
       "      <td>124.0</td>\n",
       "      <td>126.000000</td>\n",
       "      <td>127.500000</td>\n",
       "      <td>128.1</td>\n",
       "      <td>128.066667</td>\n",
       "      <td>127.761905</td>\n",
       "    </tr>\n",
       "    <tr>\n",
       "      <th>28</th>\n",
       "      <td>124.0</td>\n",
       "      <td>5</td>\n",
       "      <td>19</td>\n",
       "      <td>13</td>\n",
       "      <td>55</td>\n",
       "      <td>2</td>\n",
       "      <td>2027</td>\n",
       "      <td>-0.003333</td>\n",
       "      <td>-1.0</td>\n",
       "      <td>192.197842</td>\n",
       "      <td>...</td>\n",
       "      <td>0</td>\n",
       "      <td>0</td>\n",
       "      <td>0</td>\n",
       "      <td>0</td>\n",
       "      <td>123.0</td>\n",
       "      <td>123.666667</td>\n",
       "      <td>125.333333</td>\n",
       "      <td>126.8</td>\n",
       "      <td>127.533333</td>\n",
       "      <td>127.666667</td>\n",
       "    </tr>\n",
       "    <tr>\n",
       "      <th>...</th>\n",
       "      <td>...</td>\n",
       "      <td>...</td>\n",
       "      <td>...</td>\n",
       "      <td>...</td>\n",
       "      <td>...</td>\n",
       "      <td>...</td>\n",
       "      <td>...</td>\n",
       "      <td>...</td>\n",
       "      <td>...</td>\n",
       "      <td>...</td>\n",
       "      <td>...</td>\n",
       "      <td>...</td>\n",
       "      <td>...</td>\n",
       "      <td>...</td>\n",
       "      <td>...</td>\n",
       "      <td>...</td>\n",
       "      <td>...</td>\n",
       "      <td>...</td>\n",
       "      <td>...</td>\n",
       "      <td>...</td>\n",
       "      <td>...</td>\n",
       "    </tr>\n",
       "    <tr>\n",
       "      <th>139410</th>\n",
       "      <td>266.0</td>\n",
       "      <td>1</td>\n",
       "      <td>13</td>\n",
       "      <td>23</td>\n",
       "      <td>40</td>\n",
       "      <td>3</td>\n",
       "      <td>2022</td>\n",
       "      <td>0.076667</td>\n",
       "      <td>23.0</td>\n",
       "      <td>286.553226</td>\n",
       "      <td>...</td>\n",
       "      <td>1</td>\n",
       "      <td>1</td>\n",
       "      <td>1</td>\n",
       "      <td>0</td>\n",
       "      <td>247.0</td>\n",
       "      <td>231.666667</td>\n",
       "      <td>215.333333</td>\n",
       "      <td>207.6</td>\n",
       "      <td>205.733333</td>\n",
       "      <td>207.238095</td>\n",
       "    </tr>\n",
       "    <tr>\n",
       "      <th>139411</th>\n",
       "      <td>275.0</td>\n",
       "      <td>1</td>\n",
       "      <td>13</td>\n",
       "      <td>23</td>\n",
       "      <td>45</td>\n",
       "      <td>3</td>\n",
       "      <td>2022</td>\n",
       "      <td>0.063333</td>\n",
       "      <td>19.0</td>\n",
       "      <td>291.227760</td>\n",
       "      <td>...</td>\n",
       "      <td>1</td>\n",
       "      <td>1</td>\n",
       "      <td>1</td>\n",
       "      <td>1</td>\n",
       "      <td>266.0</td>\n",
       "      <td>253.333333</td>\n",
       "      <td>238.666667</td>\n",
       "      <td>222.8</td>\n",
       "      <td>213.866667</td>\n",
       "      <td>210.476190</td>\n",
       "    </tr>\n",
       "    <tr>\n",
       "      <th>139412</th>\n",
       "      <td>268.0</td>\n",
       "      <td>1</td>\n",
       "      <td>13</td>\n",
       "      <td>23</td>\n",
       "      <td>50</td>\n",
       "      <td>3</td>\n",
       "      <td>2022</td>\n",
       "      <td>0.030000</td>\n",
       "      <td>9.0</td>\n",
       "      <td>298.633314</td>\n",
       "      <td>...</td>\n",
       "      <td>1</td>\n",
       "      <td>1</td>\n",
       "      <td>1</td>\n",
       "      <td>0</td>\n",
       "      <td>275.0</td>\n",
       "      <td>269.000000</td>\n",
       "      <td>258.000000</td>\n",
       "      <td>244.4</td>\n",
       "      <td>229.266667</td>\n",
       "      <td>219.761905</td>\n",
       "    </tr>\n",
       "    <tr>\n",
       "      <th>139413</th>\n",
       "      <td>301.0</td>\n",
       "      <td>1</td>\n",
       "      <td>13</td>\n",
       "      <td>23</td>\n",
       "      <td>55</td>\n",
       "      <td>3</td>\n",
       "      <td>2022</td>\n",
       "      <td>-0.023333</td>\n",
       "      <td>-7.0</td>\n",
       "      <td>303.490145</td>\n",
       "      <td>...</td>\n",
       "      <td>1</td>\n",
       "      <td>1</td>\n",
       "      <td>1</td>\n",
       "      <td>1</td>\n",
       "      <td>268.0</td>\n",
       "      <td>272.666667</td>\n",
       "      <td>269.333333</td>\n",
       "      <td>260.4</td>\n",
       "      <td>248.266667</td>\n",
       "      <td>234.190476</td>\n",
       "    </tr>\n",
       "    <tr>\n",
       "      <th>139414</th>\n",
       "      <td>290.0</td>\n",
       "      <td>1</td>\n",
       "      <td>14</td>\n",
       "      <td>0</td>\n",
       "      <td>0</td>\n",
       "      <td>4</td>\n",
       "      <td>2022</td>\n",
       "      <td>0.110000</td>\n",
       "      <td>33.0</td>\n",
       "      <td>317.049327</td>\n",
       "      <td>...</td>\n",
       "      <td>1</td>\n",
       "      <td>1</td>\n",
       "      <td>1</td>\n",
       "      <td>1</td>\n",
       "      <td>301.0</td>\n",
       "      <td>279.000000</td>\n",
       "      <td>277.000000</td>\n",
       "      <td>272.6</td>\n",
       "      <td>264.066667</td>\n",
       "      <td>252.619048</td>\n",
       "    </tr>\n",
       "  </tbody>\n",
       "</table>\n",
       "<p>120010 rows × 21 columns</p>\n",
       "</div>"
      ],
      "text/plain": [
       "          CGM  month  day  hour  minute  weekday  year  cgm_velo  change  \\\n",
       "24      129.0      5   19    13      35        2  2027  0.003333     1.0   \n",
       "25      127.0      5   19    13      40        2  2027  0.000000     0.0   \n",
       "26      124.0      5   19    13      45        2  2027 -0.006667    -2.0   \n",
       "27      123.0      5   19    13      50        2  2027 -0.010000    -3.0   \n",
       "28      124.0      5   19    13      55        2  2027 -0.003333    -1.0   \n",
       "...       ...    ...  ...   ...     ...      ...   ...       ...     ...   \n",
       "139410  266.0      1   13    23      40        3  2022  0.076667    23.0   \n",
       "139411  275.0      1   13    23      45        3  2022  0.063333    19.0   \n",
       "139412  268.0      1   13    23      50        3  2022  0.030000     9.0   \n",
       "139413  301.0      1   13    23      55        3  2022 -0.023333    -7.0   \n",
       "139414  290.0      1   14     0       0        4  2022  0.110000    33.0   \n",
       "\n",
       "        upper_band  ...  extreme_CGM_80  extreme_CGM_85  extreme_CGM_90  \\\n",
       "24      198.092207  ...               0               0               0   \n",
       "25      198.840303  ...               0               0               0   \n",
       "26      198.288080  ...               0               0               0   \n",
       "27      196.078435  ...               0               0               0   \n",
       "28      192.197842  ...               0               0               0   \n",
       "...            ...  ...             ...             ...             ...   \n",
       "139410  286.553226  ...               1               1               1   \n",
       "139411  291.227760  ...               1               1               1   \n",
       "139412  298.633314  ...               1               1               1   \n",
       "139413  303.490145  ...               1               1               1   \n",
       "139414  317.049327  ...               1               1               1   \n",
       "\n",
       "        extreme_CGM_95  wCGM(1)     wCGM(2)     wCGM(3)  wCGM(4)     wCGM(5)  \\\n",
       "24                   0    129.0  128.333333  127.666667    127.8  126.866667   \n",
       "25                   0    129.0  129.000000  128.500000    127.9  127.933333   \n",
       "26                   0    127.0  128.333333  128.666667    128.4  127.933333   \n",
       "27                   0    124.0  126.000000  127.500000    128.1  128.066667   \n",
       "28                   0    123.0  123.666667  125.333333    126.8  127.533333   \n",
       "...                ...      ...         ...         ...      ...         ...   \n",
       "139410               0    247.0  231.666667  215.333333    207.6  205.733333   \n",
       "139411               1    266.0  253.333333  238.666667    222.8  213.866667   \n",
       "139412               0    275.0  269.000000  258.000000    244.4  229.266667   \n",
       "139413               1    268.0  272.666667  269.333333    260.4  248.266667   \n",
       "139414               1    301.0  279.000000  277.000000    272.6  264.066667   \n",
       "\n",
       "           wCGM(6)  \n",
       "24      129.476190  \n",
       "25      127.095238  \n",
       "26      127.952381  \n",
       "27      127.761905  \n",
       "28      127.666667  \n",
       "...            ...  \n",
       "139410  207.238095  \n",
       "139411  210.476190  \n",
       "139412  219.761905  \n",
       "139413  234.190476  \n",
       "139414  252.619048  \n",
       "\n",
       "[120010 rows x 21 columns]"
      ]
     },
     "execution_count": 1391,
     "metadata": {},
     "output_type": "execute_result"
    }
   ],
   "source": [
    "train_data"
   ]
  },
  {
   "cell_type": "markdown",
   "metadata": {},
   "source": [
    "The tuning data will be merged with the training data and be fitted into the pipeline to be used for the validation data"
   ]
  },
  {
   "cell_type": "code",
   "execution_count": 1392,
   "metadata": {},
   "outputs": [],
   "source": [
    "tuning_data = get_tuning_dataset(val_dataset['train'], dataset['train'])\n",
    "val_data = get_any_dataset(val_dataset['test'], tuning_data)"
   ]
  },
  {
   "cell_type": "code",
   "execution_count": 1393,
   "metadata": {},
   "outputs": [
    {
     "data": {
      "text/plain": [
       "((120010, 20), (120010,))"
      ]
     },
     "execution_count": 1393,
     "metadata": {},
     "output_type": "execute_result"
    }
   ],
   "source": [
    "trainX, trainY = train_data.drop([\"CGM\"], axis = 1), train_data[\"CGM\"]\n",
    "trainX.shape, trainY.shape"
   ]
  },
  {
   "cell_type": "code",
   "execution_count": 1394,
   "metadata": {},
   "outputs": [
    {
     "data": {
      "text/plain": [
       "((26845, 20), (26845,))"
      ]
     },
     "execution_count": 1394,
     "metadata": {},
     "output_type": "execute_result"
    }
   ],
   "source": [
    "testX, testY = test_data.drop([\"CGM\"], axis = 1), test_data[\"CGM\"]\n",
    "testX.shape, testY.shape"
   ]
  },
  {
   "cell_type": "code",
   "execution_count": 1395,
   "metadata": {},
   "outputs": [
    {
     "name": "stdout",
     "output_type": "stream",
     "text": [
      "Base fitted with columns: Index(['month', 'day', 'hour', 'minute', 'weekday', 'year', 'cgm_velo',\n",
      "       'change', 'upper_band', 'lower_band', 'extreme_CGM_80',\n",
      "       'extreme_CGM_85', 'extreme_CGM_90', 'extreme_CGM_95', 'wCGM(1)',\n",
      "       'wCGM(2)', 'wCGM(3)', 'wCGM(4)', 'wCGM(5)', 'wCGM(6)', 'direction'],\n",
      "      dtype='object')\n",
      "Base: (16.233020280604528, 4.029022248710539, 0.07677582969463718)\n",
      "Base + Residuals: (16.147935747935648, 4.01844942085074, 0.07643198893322938) Change: 4.2914389644083%\n"
     ]
    }
   ],
   "source": [
    "model = HybridModel()\n",
    "model.fit(trainX, trainY, testX, testY, eval = True, tune = False)"
   ]
  }
 ],
 "metadata": {
  "kernelspec": {
   "display_name": "Python 3",
   "language": "python",
   "name": "python3"
  },
  "language_info": {
   "codemirror_mode": {
    "name": "ipython",
    "version": 3
   },
   "file_extension": ".py",
   "mimetype": "text/x-python",
   "name": "python",
   "nbconvert_exporter": "python",
   "pygments_lexer": "ipython3",
   "version": "3.12.2"
  }
 },
 "nbformat": 4,
 "nbformat_minor": 2
}
