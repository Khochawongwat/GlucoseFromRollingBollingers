{
 "cells": [
  {
   "cell_type": "code",
   "execution_count": 524,
   "metadata": {},
   "outputs": [],
   "source": [
    "import importlib\n",
    "import utils\n",
    "import transformers\n",
    "import model\n",
    "import losses\n",
    "\n",
    "from sklearn.metrics import mean_squared_error"
   ]
  },
  {
   "cell_type": "code",
   "execution_count": 525,
   "metadata": {},
   "outputs": [],
   "source": [
    "from model import *\n",
    "from utils import *"
   ]
  },
  {
   "cell_type": "code",
   "execution_count": 526,
   "metadata": {},
   "outputs": [
    {
     "data": {
      "text/plain": [
       "<module 'losses' from 'd:\\\\Documents\\\\machinelearning\\\\cgm-paper\\\\src\\\\losses.py'>"
      ]
     },
     "execution_count": 526,
     "metadata": {},
     "output_type": "execute_result"
    }
   ],
   "source": [
    "importlib.reload(utils)\n",
    "importlib.reload(transformers)\n",
    "importlib.reload(model)\n",
    "importlib.reload(losses)"
   ]
  },
  {
   "cell_type": "code",
   "execution_count": 527,
   "metadata": {},
   "outputs": [
    {
     "name": "stdout",
     "output_type": "stream",
     "text": [
      "Current working directory:  d:\\Documents\\machinelearning\\cgm-paper\\src\n"
     ]
    }
   ],
   "source": [
    "print(\"Current working directory: \", os.getcwd())"
   ]
  },
  {
   "cell_type": "code",
   "execution_count": 528,
   "metadata": {},
   "outputs": [],
   "source": [
    "raw_dir = \"../data/raw\"\n",
    "tuning_dir = \"../data/tuning\""
   ]
  },
  {
   "cell_type": "code",
   "execution_count": 529,
   "metadata": {},
   "outputs": [],
   "source": [
    "assert os.path.exists(raw_dir), \"Raw data directory not found\"\n",
    "assert os.path.exists(tuning_dir), \"Tuning data directory not found\""
   ]
  },
  {
   "cell_type": "code",
   "execution_count": 530,
   "metadata": {},
   "outputs": [
    {
     "name": "stdout",
     "output_type": "stream",
     "text": [
      "Found 22 files in ../data/raw\n",
      "train (139415, 47)\n",
      "test (32912, 47)\n"
     ]
    }
   ],
   "source": [
    "dataset = load_data(raw_dir)"
   ]
  },
  {
   "cell_type": "code",
   "execution_count": 531,
   "metadata": {},
   "outputs": [
    {
     "name": "stdout",
     "output_type": "stream",
     "text": [
      "Found 2 files in ../data/tuning\n",
      "train (13630, 43)\n",
      "test (3002, 43)\n"
     ]
    }
   ],
   "source": [
    "val_dataset = load_data(tuning_dir)"
   ]
  },
  {
   "cell_type": "code",
   "execution_count": 532,
   "metadata": {},
   "outputs": [],
   "source": [
    "for key in dataset.keys():\n",
    "    val_dataset[key] = reduce_classes(val_dataset[key])\n",
    "    dataset[key] = reduce_classes(dataset[key])"
   ]
  },
  {
   "cell_type": "code",
   "execution_count": 533,
   "metadata": {},
   "outputs": [
    {
     "data": {
      "text/plain": [
       "0"
      ]
     },
     "execution_count": 533,
     "metadata": {},
     "output_type": "execute_result"
    }
   ],
   "source": [
    "dataset.get(\"train\")['Time'].isnull().sum()"
   ]
  },
  {
   "cell_type": "code",
   "execution_count": 534,
   "metadata": {},
   "outputs": [
    {
     "name": "stdout",
     "output_type": "stream",
     "text": [
      "      CGM  month  day  hour  minute  weekday  year  cgm_velo  change  \\\n",
      "24  129.0      5   19    13      35        2  2027  0.003333     1.0   \n",
      "25  127.0      5   19    13      40        2  2027  0.000000     0.0   \n",
      "26  124.0      5   19    13      45        2  2027 -0.006667    -2.0   \n",
      "27  123.0      5   19    13      50        2  2027 -0.010000    -3.0   \n",
      "28  124.0      5   19    13      55        2  2027 -0.003333    -1.0   \n",
      "\n",
      "    upper_band  ...  extreme_CGM_80  extreme_CGM_85  extreme_CGM_90  \\\n",
      "24  198.092207  ...               0               0               0   \n",
      "25  198.840303  ...               0               0               0   \n",
      "26  198.288080  ...               0               0               0   \n",
      "27  196.078435  ...               0               0               0   \n",
      "28  192.197842  ...               0               0               0   \n",
      "\n",
      "    extreme_CGM_95  wCGM(1)     wCGM(2)     wCGM(3)  wCGM(4)     wCGM(5)  \\\n",
      "24               0    129.0  128.333333  127.666667    127.8  126.866667   \n",
      "25               0    129.0  129.000000  128.500000    127.9  127.933333   \n",
      "26               0    127.0  128.333333  128.666667    128.4  127.933333   \n",
      "27               0    124.0  126.000000  127.500000    128.1  128.066667   \n",
      "28               0    123.0  123.666667  125.333333    126.8  127.533333   \n",
      "\n",
      "       wCGM(6)  \n",
      "24  129.476190  \n",
      "25  127.095238  \n",
      "26  127.952381  \n",
      "27  127.761905  \n",
      "28  127.666667  \n",
      "\n",
      "[5 rows x 21 columns]\n"
     ]
    }
   ],
   "source": [
    "train_data = get_train_dataset(dataset['train'])\n",
    "test_data = get_any_dataset(dataset['test'], dataset['train'])"
   ]
  },
  {
   "cell_type": "markdown",
   "metadata": {},
   "source": [
    "The tuning data will be merged with the training data and be fitted into the pipeline to be used for the validation data"
   ]
  },
  {
   "cell_type": "code",
   "execution_count": 535,
   "metadata": {},
   "outputs": [],
   "source": [
    "tuning_data = get_tuning_dataset(val_dataset['train'], dataset['train'])\n",
    "val_data = get_any_dataset(val_dataset['test'], tuning_data)"
   ]
  },
  {
   "cell_type": "code",
   "execution_count": 536,
   "metadata": {},
   "outputs": [
    {
     "data": {
      "text/plain": [
       "((120010, 20), (120010,))"
      ]
     },
     "execution_count": 536,
     "metadata": {},
     "output_type": "execute_result"
    }
   ],
   "source": [
    "trainX, trainY = train_data.drop([\"CGM\"], axis = 1), train_data[\"CGM\"]\n",
    "trainX.shape, trainY.shape"
   ]
  },
  {
   "cell_type": "code",
   "execution_count": 537,
   "metadata": {},
   "outputs": [
    {
     "data": {
      "text/plain": [
       "((26845, 20), (26845,))"
      ]
     },
     "execution_count": 537,
     "metadata": {},
     "output_type": "execute_result"
    }
   ],
   "source": [
    "testX, testY = test_data.drop([\"CGM\"], axis = 1), test_data[\"CGM\"]\n",
    "testX.shape, testY.shape"
   ]
  },
  {
   "cell_type": "code",
   "execution_count": 538,
   "metadata": {},
   "outputs": [
    {
     "data": {
      "text/html": [
       "<div>\n",
       "<style scoped>\n",
       "    .dataframe tbody tr th:only-of-type {\n",
       "        vertical-align: middle;\n",
       "    }\n",
       "\n",
       "    .dataframe tbody tr th {\n",
       "        vertical-align: top;\n",
       "    }\n",
       "\n",
       "    .dataframe thead th {\n",
       "        text-align: right;\n",
       "    }\n",
       "</style>\n",
       "<table border=\"1\" class=\"dataframe\">\n",
       "  <thead>\n",
       "    <tr style=\"text-align: right;\">\n",
       "      <th></th>\n",
       "      <th>month</th>\n",
       "      <th>day</th>\n",
       "      <th>hour</th>\n",
       "      <th>minute</th>\n",
       "      <th>weekday</th>\n",
       "      <th>year</th>\n",
       "      <th>cgm_velo</th>\n",
       "      <th>change</th>\n",
       "      <th>upper_band</th>\n",
       "      <th>lower_band</th>\n",
       "      <th>extreme_CGM_80</th>\n",
       "      <th>extreme_CGM_85</th>\n",
       "      <th>extreme_CGM_90</th>\n",
       "      <th>extreme_CGM_95</th>\n",
       "      <th>wCGM(1)</th>\n",
       "      <th>wCGM(2)</th>\n",
       "      <th>wCGM(3)</th>\n",
       "      <th>wCGM(4)</th>\n",
       "      <th>wCGM(5)</th>\n",
       "      <th>wCGM(6)</th>\n",
       "    </tr>\n",
       "  </thead>\n",
       "  <tbody>\n",
       "    <tr>\n",
       "      <th>32907</th>\n",
       "      <td>1</td>\n",
       "      <td>23</td>\n",
       "      <td>20</td>\n",
       "      <td>55</td>\n",
       "      <td>6</td>\n",
       "      <td>2022</td>\n",
       "      <td>-0.006667</td>\n",
       "      <td>-2.0</td>\n",
       "      <td>231.007617</td>\n",
       "      <td>121.742383</td>\n",
       "      <td>0</td>\n",
       "      <td>0</td>\n",
       "      <td>0</td>\n",
       "      <td>0</td>\n",
       "      <td>150.0</td>\n",
       "      <td>151.333333</td>\n",
       "      <td>152.666667</td>\n",
       "      <td>154.0</td>\n",
       "      <td>155.666667</td>\n",
       "      <td>156.619048</td>\n",
       "    </tr>\n",
       "    <tr>\n",
       "      <th>32908</th>\n",
       "      <td>1</td>\n",
       "      <td>23</td>\n",
       "      <td>21</td>\n",
       "      <td>0</td>\n",
       "      <td>6</td>\n",
       "      <td>2022</td>\n",
       "      <td>-0.003333</td>\n",
       "      <td>-1.0</td>\n",
       "      <td>226.195461</td>\n",
       "      <td>121.387873</td>\n",
       "      <td>0</td>\n",
       "      <td>0</td>\n",
       "      <td>0</td>\n",
       "      <td>0</td>\n",
       "      <td>149.0</td>\n",
       "      <td>149.666667</td>\n",
       "      <td>150.833333</td>\n",
       "      <td>152.1</td>\n",
       "      <td>153.400000</td>\n",
       "      <td>155.000000</td>\n",
       "    </tr>\n",
       "    <tr>\n",
       "      <th>32909</th>\n",
       "      <td>1</td>\n",
       "      <td>23</td>\n",
       "      <td>21</td>\n",
       "      <td>5</td>\n",
       "      <td>6</td>\n",
       "      <td>2022</td>\n",
       "      <td>-0.003333</td>\n",
       "      <td>-1.0</td>\n",
       "      <td>221.190096</td>\n",
       "      <td>121.393237</td>\n",
       "      <td>0</td>\n",
       "      <td>0</td>\n",
       "      <td>0</td>\n",
       "      <td>0</td>\n",
       "      <td>148.0</td>\n",
       "      <td>148.666667</td>\n",
       "      <td>149.333333</td>\n",
       "      <td>150.4</td>\n",
       "      <td>151.600000</td>\n",
       "      <td>152.857143</td>\n",
       "    </tr>\n",
       "    <tr>\n",
       "      <th>32910</th>\n",
       "      <td>1</td>\n",
       "      <td>23</td>\n",
       "      <td>21</td>\n",
       "      <td>10</td>\n",
       "      <td>6</td>\n",
       "      <td>2022</td>\n",
       "      <td>0.010000</td>\n",
       "      <td>3.0</td>\n",
       "      <td>217.096903</td>\n",
       "      <td>121.403097</td>\n",
       "      <td>0</td>\n",
       "      <td>0</td>\n",
       "      <td>0</td>\n",
       "      <td>0</td>\n",
       "      <td>151.0</td>\n",
       "      <td>149.000000</td>\n",
       "      <td>149.000000</td>\n",
       "      <td>149.4</td>\n",
       "      <td>150.266667</td>\n",
       "      <td>151.333333</td>\n",
       "    </tr>\n",
       "    <tr>\n",
       "      <th>32911</th>\n",
       "      <td>1</td>\n",
       "      <td>23</td>\n",
       "      <td>21</td>\n",
       "      <td>15</td>\n",
       "      <td>6</td>\n",
       "      <td>2022</td>\n",
       "      <td>-0.006667</td>\n",
       "      <td>-2.0</td>\n",
       "      <td>213.194437</td>\n",
       "      <td>121.305563</td>\n",
       "      <td>0</td>\n",
       "      <td>0</td>\n",
       "      <td>0</td>\n",
       "      <td>0</td>\n",
       "      <td>149.0</td>\n",
       "      <td>150.333333</td>\n",
       "      <td>149.166667</td>\n",
       "      <td>149.1</td>\n",
       "      <td>149.400000</td>\n",
       "      <td>150.142857</td>\n",
       "    </tr>\n",
       "  </tbody>\n",
       "</table>\n",
       "</div>"
      ],
      "text/plain": [
       "       month  day  hour  minute  weekday  year  cgm_velo  change  upper_band  \\\n",
       "32907      1   23    20      55        6  2022 -0.006667    -2.0  231.007617   \n",
       "32908      1   23    21       0        6  2022 -0.003333    -1.0  226.195461   \n",
       "32909      1   23    21       5        6  2022 -0.003333    -1.0  221.190096   \n",
       "32910      1   23    21      10        6  2022  0.010000     3.0  217.096903   \n",
       "32911      1   23    21      15        6  2022 -0.006667    -2.0  213.194437   \n",
       "\n",
       "       lower_band  extreme_CGM_80  extreme_CGM_85  extreme_CGM_90  \\\n",
       "32907  121.742383               0               0               0   \n",
       "32908  121.387873               0               0               0   \n",
       "32909  121.393237               0               0               0   \n",
       "32910  121.403097               0               0               0   \n",
       "32911  121.305563               0               0               0   \n",
       "\n",
       "       extreme_CGM_95  wCGM(1)     wCGM(2)     wCGM(3)  wCGM(4)     wCGM(5)  \\\n",
       "32907               0    150.0  151.333333  152.666667    154.0  155.666667   \n",
       "32908               0    149.0  149.666667  150.833333    152.1  153.400000   \n",
       "32909               0    148.0  148.666667  149.333333    150.4  151.600000   \n",
       "32910               0    151.0  149.000000  149.000000    149.4  150.266667   \n",
       "32911               0    149.0  150.333333  149.166667    149.1  149.400000   \n",
       "\n",
       "          wCGM(6)  \n",
       "32907  156.619048  \n",
       "32908  155.000000  \n",
       "32909  152.857143  \n",
       "32910  151.333333  \n",
       "32911  150.142857  "
      ]
     },
     "execution_count": 538,
     "metadata": {},
     "output_type": "execute_result"
    }
   ],
   "source": [
    "testX.tail(5)"
   ]
  },
  {
   "cell_type": "code",
   "execution_count": 539,
   "metadata": {},
   "outputs": [
    {
     "name": "stdout",
     "output_type": "stream",
     "text": [
      "Base fitted with columns: Index(['month', 'day', 'hour', 'minute', 'weekday', 'year', 'cgm_velo',\n",
      "       'change', 'upper_band', 'lower_band', 'extreme_CGM_80',\n",
      "       'extreme_CGM_85', 'extreme_CGM_90', 'extreme_CGM_95', 'wCGM(1)',\n",
      "       'wCGM(2)', 'wCGM(3)', 'wCGM(4)', 'wCGM(5)', 'wCGM(6)', 'direction'],\n",
      "      dtype='object')\n",
      "Base: (16.343257505850314, 4.042679495810955, 0.07745652072445076)\n",
      "Base + Residuals: (16.264420586680743, 4.0329171311447425, 0.0771612046960515) Change: 4.2841620243252265%\n"
     ]
    }
   ],
   "source": [
    "model = HybridModel()\n",
    "model.fit(trainX, trainY, testX, testY, eval = True, tune = False)"
   ]
  },
  {
   "cell_type": "code",
   "execution_count": 591,
   "metadata": {},
   "outputs": [],
   "source": [
    "import matplotlib.pyplot as plt\n",
    "\n",
    "def plot_forecast(y, n_steps = 12, lookback = 0, use_confi = True, navigator_weight = 1, show_median = False):\n",
    "    result = model.forecast(testX.iloc[:-n_steps], n_steps = n_steps, return_X = False, use_confi = use_confi, navigator_weight = navigator_weight * 100)\n",
    "    forecast = result[\"forecasts\"]\n",
    "    actual = y.iloc[-n_steps - lookback:].reset_index(drop = True)\n",
    "    \n",
    "    plt.figure(figsize = (15, 5))\n",
    "    plt.title('Forecast vs Actual', fontsize=20)\n",
    "    plt.xlabel('Iterations', fontsize=15)\n",
    "    plt.ylabel('Glucose', fontsize=15)\n",
    "    plt.grid(True)\n",
    "    \n",
    "    if use_confi:\n",
    "        confi_int = result[\"confi_forecasts\"]\n",
    "        if show_median:\n",
    "            plt.plot(np.arange(lookback, len(forecast) + lookback), confi_int['Median'], label = \"Median\", color = \"black\", linestyle='--', linewidth=2)\n",
    "        plt.fill_between(np.arange(lookback, len(forecast) + lookback), confi_int[\"Lower\"], confi_int[\"Upper\"], color = \"black\", alpha = 0.15)\n",
    "\n",
    "    plt.plot(actual, label = \"Actual\", color = \"blue\", linewidth=2)\n",
    "    plt.plot(np.arange(lookback, len(forecast) + lookback), forecast, label = \"Forecast\", color = \"green\", linestyle='-', linewidth=2)\n",
    "    \n",
    "    plt.legend(fontsize=12)\n",
    "    plt.show()\n",
    "    \n",
    "    print(\"RMSE\", np.sqrt(mean_squared_error(actual.iloc[lookback:], forecast)))"
   ]
  },
  {
   "cell_type": "code",
   "execution_count": 597,
   "metadata": {},
   "outputs": [
    {
     "name": "stderr",
     "output_type": "stream",
     "text": [
      "Forecasting: 100%|██████████| 24/24 [00:04<00:00,  5.26it/s]\n"
     ]
    },
    {
     "data": {
      "image/png": "[encoded data removed]",
      "text/plain": [
       "<Figure size 1500x500 with 1 Axes>"
      ]
     },
     "metadata": {},
     "output_type": "display_data"
    },
    {
     "name": "stdout",
     "output_type": "stream",
     "text": [
      "RMSE 4.289638242530629\n"
     ]
    }
   ],
   "source": [
    "plot_forecast(testY, n_steps = 24, lookback= 12, use_confi = True, navigator_weight = 6)"
   ]
  },
  {
   "cell_type": "code",
   "execution_count": null,
   "metadata": {},
   "outputs": [],
   "source": []
  }
 ],
 "metadata": {
  "kernelspec": {
   "display_name": "Python 3",
   "language": "python",
   "name": "python3"
  },
  "language_info": {
   "codemirror_mode": {
    "name": "ipython",
    "version": 3
   },
   "file_extension": ".py",
   "mimetype": "text/x-python",
   "name": "python",
   "nbconvert_exporter": "python",
   "pygments_lexer": "ipython3",
   "version": "3.12.2"
  }
 },
 "nbformat": 4,
 "nbformat_minor": 2
}
