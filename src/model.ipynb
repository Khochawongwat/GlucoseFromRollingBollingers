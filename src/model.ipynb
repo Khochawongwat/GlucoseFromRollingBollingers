{
 "cells": [
  {
   "cell_type": "code",
   "execution_count": 340,
   "metadata": {},
   "outputs": [],
   "source": [
    "import importlib\n",
    "import utils\n",
    "import transformers\n",
    "import models\n",
    "import losses"
   ]
  },
  {
   "cell_type": "code",
   "execution_count": 341,
   "metadata": {},
   "outputs": [],
   "source": [
    "from models import *\n",
    "from utils import *"
   ]
  },
  {
   "cell_type": "code",
   "execution_count": 342,
   "metadata": {},
   "outputs": [
    {
     "data": {
      "text/plain": [
       "<module 'losses' from 'd:\\\\Documents\\\\machinelearning\\\\cgm-paper\\\\src\\\\losses.py'>"
      ]
     },
     "execution_count": 342,
     "metadata": {},
     "output_type": "execute_result"
    }
   ],
   "source": [
    "importlib.reload(utils)\n",
    "importlib.reload(transformers)\n",
    "importlib.reload(models)\n",
    "importlib.reload(losses)"
   ]
  },
  {
   "cell_type": "code",
   "execution_count": 343,
   "metadata": {},
   "outputs": [
    {
     "name": "stdout",
     "output_type": "stream",
     "text": [
      "Current working directory:  d:\\Documents\\machinelearning\\cgm-paper\\src\n"
     ]
    }
   ],
   "source": [
    "print(\"Current working directory: \", os.getcwd())"
   ]
  },
  {
   "cell_type": "code",
   "execution_count": 344,
   "metadata": {},
   "outputs": [],
   "source": [
    "raw_dir = \"../data/raw\"\n",
    "tuning_dir = \"../data/tuning\""
   ]
  },
  {
   "cell_type": "code",
   "execution_count": 345,
   "metadata": {},
   "outputs": [],
   "source": [
    "assert os.path.exists(raw_dir), \"Raw data directory not found\"\n",
    "assert os.path.exists(tuning_dir), \"Tuning data directory not found\""
   ]
  },
  {
   "cell_type": "code",
   "execution_count": 346,
   "metadata": {},
   "outputs": [
    {
     "name": "stdout",
     "output_type": "stream",
     "text": [
      "Found 22 files in ../data/raw\n"
     ]
    },
    {
     "name": "stdout",
     "output_type": "stream",
     "text": [
      "train (139415, 47)\n",
      "test (32912, 47)\n"
     ]
    }
   ],
   "source": [
    "dataset = load_data(raw_dir)"
   ]
  },
  {
   "cell_type": "code",
   "execution_count": 347,
   "metadata": {},
   "outputs": [
    {
     "name": "stdout",
     "output_type": "stream",
     "text": [
      "Found 2 files in ../data/tuning\n",
      "train (13630, 43)\n",
      "test (3002, 43)\n"
     ]
    }
   ],
   "source": [
    "val_dataset = load_data(tuning_dir)"
   ]
  },
  {
   "cell_type": "code",
   "execution_count": 348,
   "metadata": {},
   "outputs": [],
   "source": [
    "for key in dataset.keys():\n",
    "    val_dataset[key] = reduce_classes(val_dataset[key])\n",
    "    dataset[key] = reduce_classes(dataset[key])"
   ]
  },
  {
   "cell_type": "code",
   "execution_count": 349,
   "metadata": {},
   "outputs": [
    {
     "data": {
      "text/plain": [
       "0"
      ]
     },
     "execution_count": 349,
     "metadata": {},
     "output_type": "execute_result"
    }
   ],
   "source": [
    "dataset.get(\"train\")['Time'].isnull().sum()"
   ]
  },
  {
   "cell_type": "code",
   "execution_count": 350,
   "metadata": {},
   "outputs": [
    {
     "name": "stdout",
     "output_type": "stream",
     "text": [
      "      CGM  month  day  hour  minute  weekday  cgm_velo  CGM(1)  CGM(2)  \\\n",
      "6    71.0      5   19    12       5        2  0.010000    66.0    64.5   \n",
      "7    78.0      5   19    12      10        2  0.016667    71.0    68.5   \n",
      "8    90.0      5   19    12      15        2  0.023333    78.0    74.5   \n",
      "9    99.0      5   19    12      20        2  0.040000    90.0    84.0   \n",
      "10  110.0      5   19    12      25        2  0.030000    99.0    94.5   \n",
      "\n",
      "       CGM(3)  CGM(4)  CGM(5)     CGM(6)  \n",
      "6   64.666667   65.50    66.8  68.333333  \n",
      "7   66.666667   66.25    66.6  67.500000  \n",
      "8   71.666667   69.50    68.6  68.500000  \n",
      "9   79.666667   76.25    73.6  72.166667  \n",
      "10  89.000000   84.50    80.8  77.833333  \n"
     ]
    }
   ],
   "source": [
    "train_data = get_train_dataset(dataset['train'])\n",
    "test_data = get_any_dataset(dataset['test'], dataset['train'])"
   ]
  },
  {
   "cell_type": "markdown",
   "metadata": {},
   "source": [
    "The tuning data will be merged with the training data and be fitted into the pipeline to be used for the validation data"
   ]
  },
  {
   "cell_type": "code",
   "execution_count": 351,
   "metadata": {},
   "outputs": [],
   "source": [
    "tuning_data = get_tuning_dataset(val_dataset['train'], dataset['train'])\n",
    "val_data = get_any_dataset(val_dataset['test'], tuning_data)"
   ]
  },
  {
   "cell_type": "code",
   "execution_count": 352,
   "metadata": {},
   "outputs": [],
   "source": [
    "models = Models()"
   ]
  },
  {
   "cell_type": "code",
   "execution_count": 353,
   "metadata": {},
   "outputs": [
    {
     "data": {
      "text/plain": [
       "((123697, 12), (123697,))"
      ]
     },
     "execution_count": 353,
     "metadata": {},
     "output_type": "execute_result"
    }
   ],
   "source": [
    "trainX, trainY = train_data.drop([\"CGM\"], axis = 1), train_data[\"CGM\"]\n",
    "trainX.shape, trainY.shape"
   ]
  },
  {
   "cell_type": "code",
   "execution_count": 354,
   "metadata": {},
   "outputs": [
    {
     "data": {
      "text/plain": [
       "((28455, 12), (28455,))"
      ]
     },
     "execution_count": 354,
     "metadata": {},
     "output_type": "execute_result"
    }
   ],
   "source": [
    "testX, testY = test_data.drop([\"CGM\"], axis = 1), test_data[\"CGM\"]\n",
    "testX.shape, testY.shape"
   ]
  },
  {
   "cell_type": "code",
   "execution_count": 355,
   "metadata": {},
   "outputs": [
    {
     "name": "stderr",
     "output_type": "stream",
     "text": [
      " 50%|█████     | 1/2 [00:00<00:00,  3.89it/s]"
     ]
    },
    {
     "name": "stdout",
     "output_type": "stream",
     "text": [
      "XGBoost MSE: 21.700712394573824, RMSE: 4.6584023435695014, MSPE: 0.08981187579422874 %\n"
     ]
    },
    {
     "name": "stderr",
     "output_type": "stream",
     "text": [
      "100%|██████████| 2/2 [00:00<00:00,  3.65it/s]"
     ]
    },
    {
     "name": "stdout",
     "output_type": "stream",
     "text": [
      "LightGBM MSE: 18.80539329014221, RMSE: 4.3365185679462055, MSPE: 0.08458871243019242 %\n"
     ]
    },
    {
     "name": "stderr",
     "output_type": "stream",
     "text": [
      "\n"
     ]
    }
   ],
   "source": [
    "models.fit(trainX, trainY, testX, testY)"
   ]
  },
  {
   "cell_type": "code",
   "execution_count": 356,
   "metadata": {},
   "outputs": [],
   "source": [
    "N = 12"
   ]
  },
  {
   "cell_type": "code",
   "execution_count": 357,
   "metadata": {},
   "outputs": [],
   "source": [
    "forecastX, forecastY = testX.iloc[:10], testY.iloc[10: 10 + N]"
   ]
  },
  {
   "cell_type": "code",
   "execution_count": 358,
   "metadata": {},
   "outputs": [],
   "source": [
    "forecastXLong = testX.iloc[10: 10 + N]"
   ]
  },
  {
   "cell_type": "code",
   "execution_count": 364,
   "metadata": {},
   "outputs": [
    {
     "data": {
      "text/html": [
       "<div>\n",
       "<style scoped>\n",
       "    .dataframe tbody tr th:only-of-type {\n",
       "        vertical-align: middle;\n",
       "    }\n",
       "\n",
       "    .dataframe tbody tr th {\n",
       "        vertical-align: top;\n",
       "    }\n",
       "\n",
       "    .dataframe thead th {\n",
       "        text-align: right;\n",
       "    }\n",
       "</style>\n",
       "<table border=\"1\" class=\"dataframe\">\n",
       "  <thead>\n",
       "    <tr style=\"text-align: right;\">\n",
       "      <th></th>\n",
       "      <th>month</th>\n",
       "      <th>day</th>\n",
       "      <th>hour</th>\n",
       "      <th>minute</th>\n",
       "      <th>weekday</th>\n",
       "      <th>cgm_velo</th>\n",
       "      <th>CGM(1)</th>\n",
       "      <th>CGM(2)</th>\n",
       "      <th>CGM(3)</th>\n",
       "      <th>CGM(4)</th>\n",
       "      <th>CGM(5)</th>\n",
       "      <th>CGM(6)</th>\n",
       "    </tr>\n",
       "  </thead>\n",
       "  <tbody>\n",
       "    <tr>\n",
       "      <th>22</th>\n",
       "      <td>7</td>\n",
       "      <td>4</td>\n",
       "      <td>2</td>\n",
       "      <td>20</td>\n",
       "      <td>1</td>\n",
       "      <td>0.001727</td>\n",
       "      <td>212.610229</td>\n",
       "      <td>212.374672</td>\n",
       "      <td>212.282145</td>\n",
       "      <td>212.176269</td>\n",
       "      <td>212.099353</td>\n",
       "      <td>212.094177</td>\n",
       "    </tr>\n",
       "    <tr>\n",
       "      <th>23</th>\n",
       "      <td>7</td>\n",
       "      <td>4</td>\n",
       "      <td>2</td>\n",
       "      <td>25</td>\n",
       "      <td>1</td>\n",
       "      <td>0.002437</td>\n",
       "      <td>213.341393</td>\n",
       "      <td>212.858032</td>\n",
       "      <td>212.635228</td>\n",
       "      <td>212.467550</td>\n",
       "      <td>212.347761</td>\n",
       "      <td>212.302046</td>\n",
       "    </tr>\n",
       "    <tr>\n",
       "      <th>24</th>\n",
       "      <td>7</td>\n",
       "      <td>4</td>\n",
       "      <td>2</td>\n",
       "      <td>30</td>\n",
       "      <td>1</td>\n",
       "      <td>0.004513</td>\n",
       "      <td>214.695151</td>\n",
       "      <td>213.776592</td>\n",
       "      <td>213.321869</td>\n",
       "      <td>213.024450</td>\n",
       "      <td>212.817239</td>\n",
       "      <td>212.700897</td>\n",
       "    </tr>\n",
       "    <tr>\n",
       "      <th>25</th>\n",
       "      <td>7</td>\n",
       "      <td>4</td>\n",
       "      <td>2</td>\n",
       "      <td>35</td>\n",
       "      <td>1</td>\n",
       "      <td>0.006204</td>\n",
       "      <td>216.556484</td>\n",
       "      <td>215.166538</td>\n",
       "      <td>214.400074</td>\n",
       "      <td>213.907459</td>\n",
       "      <td>213.565088</td>\n",
       "      <td>213.343495</td>\n",
       "    </tr>\n",
       "    <tr>\n",
       "      <th>26</th>\n",
       "      <td>7</td>\n",
       "      <td>4</td>\n",
       "      <td>2</td>\n",
       "      <td>40</td>\n",
       "      <td>1</td>\n",
       "      <td>0.005563</td>\n",
       "      <td>218.225475</td>\n",
       "      <td>216.696006</td>\n",
       "      <td>215.675208</td>\n",
       "      <td>214.986963</td>\n",
       "      <td>214.497165</td>\n",
       "      <td>214.157158</td>\n",
       "    </tr>\n",
       "    <tr>\n",
       "      <th>27</th>\n",
       "      <td>7</td>\n",
       "      <td>4</td>\n",
       "      <td>2</td>\n",
       "      <td>45</td>\n",
       "      <td>1</td>\n",
       "      <td>0.007883</td>\n",
       "      <td>220.590279</td>\n",
       "      <td>218.643143</td>\n",
       "      <td>217.313565</td>\n",
       "      <td>216.387792</td>\n",
       "      <td>215.715788</td>\n",
       "      <td>215.229345</td>\n",
       "    </tr>\n",
       "    <tr>\n",
       "      <th>28</th>\n",
       "      <td>7</td>\n",
       "      <td>4</td>\n",
       "      <td>2</td>\n",
       "      <td>50</td>\n",
       "      <td>1</td>\n",
       "      <td>0.005936</td>\n",
       "      <td>222.371094</td>\n",
       "      <td>220.507119</td>\n",
       "      <td>218.999408</td>\n",
       "      <td>217.883618</td>\n",
       "      <td>217.046849</td>\n",
       "      <td>216.419637</td>\n",
       "    </tr>\n",
       "    <tr>\n",
       "      <th>29</th>\n",
       "      <td>7</td>\n",
       "      <td>4</td>\n",
       "      <td>2</td>\n",
       "      <td>55</td>\n",
       "      <td>1</td>\n",
       "      <td>0.005842</td>\n",
       "      <td>224.123697</td>\n",
       "      <td>222.315408</td>\n",
       "      <td>220.707504</td>\n",
       "      <td>219.443637</td>\n",
       "      <td>218.462219</td>\n",
       "      <td>217.703647</td>\n",
       "    </tr>\n",
       "    <tr>\n",
       "      <th>30</th>\n",
       "      <td>7</td>\n",
       "      <td>4</td>\n",
       "      <td>3</td>\n",
       "      <td>0</td>\n",
       "      <td>1</td>\n",
       "      <td>0.006036</td>\n",
       "      <td>225.934591</td>\n",
       "      <td>224.124999</td>\n",
       "      <td>222.449867</td>\n",
       "      <td>221.066376</td>\n",
       "      <td>219.956693</td>\n",
       "      <td>219.075471</td>\n",
       "    </tr>\n",
       "    <tr>\n",
       "      <th>31</th>\n",
       "      <td>7</td>\n",
       "      <td>4</td>\n",
       "      <td>3</td>\n",
       "      <td>5</td>\n",
       "      <td>1</td>\n",
       "      <td>0.002331</td>\n",
       "      <td>226.633972</td>\n",
       "      <td>225.379486</td>\n",
       "      <td>223.844569</td>\n",
       "      <td>222.458275</td>\n",
       "      <td>221.292149</td>\n",
       "      <td>220.335221</td>\n",
       "    </tr>\n",
       "    <tr>\n",
       "      <th>32</th>\n",
       "      <td>7</td>\n",
       "      <td>4</td>\n",
       "      <td>3</td>\n",
       "      <td>10</td>\n",
       "      <td>1</td>\n",
       "      <td>0.004189</td>\n",
       "      <td>227.890600</td>\n",
       "      <td>226.635043</td>\n",
       "      <td>225.193246</td>\n",
       "      <td>223.816356</td>\n",
       "      <td>222.611839</td>\n",
       "      <td>221.594451</td>\n",
       "    </tr>\n",
       "    <tr>\n",
       "      <th>33</th>\n",
       "      <td>7</td>\n",
       "      <td>4</td>\n",
       "      <td>3</td>\n",
       "      <td>15</td>\n",
       "      <td>1</td>\n",
       "      <td>0.003870</td>\n",
       "      <td>229.051587</td>\n",
       "      <td>227.843315</td>\n",
       "      <td>226.479359</td>\n",
       "      <td>225.125164</td>\n",
       "      <td>223.899789</td>\n",
       "      <td>222.837307</td>\n",
       "    </tr>\n",
       "  </tbody>\n",
       "</table>\n",
       "</div>"
      ],
      "text/plain": [
       "    month  day  hour  minute  weekday  cgm_velo      CGM(1)      CGM(2)  \\\n",
       "22      7    4     2      20        1  0.001727  212.610229  212.374672   \n",
       "23      7    4     2      25        1  0.002437  213.341393  212.858032   \n",
       "24      7    4     2      30        1  0.004513  214.695151  213.776592   \n",
       "25      7    4     2      35        1  0.006204  216.556484  215.166538   \n",
       "26      7    4     2      40        1  0.005563  218.225475  216.696006   \n",
       "27      7    4     2      45        1  0.007883  220.590279  218.643143   \n",
       "28      7    4     2      50        1  0.005936  222.371094  220.507119   \n",
       "29      7    4     2      55        1  0.005842  224.123697  222.315408   \n",
       "30      7    4     3       0        1  0.006036  225.934591  224.124999   \n",
       "31      7    4     3       5        1  0.002331  226.633972  225.379486   \n",
       "32      7    4     3      10        1  0.004189  227.890600  226.635043   \n",
       "33      7    4     3      15        1  0.003870  229.051587  227.843315   \n",
       "\n",
       "        CGM(3)      CGM(4)      CGM(5)      CGM(6)  \n",
       "22  212.282145  212.176269  212.099353  212.094177  \n",
       "23  212.635228  212.467550  212.347761  212.302046  \n",
       "24  213.321869  213.024450  212.817239  212.700897  \n",
       "25  214.400074  213.907459  213.565088  213.343495  \n",
       "26  215.675208  214.986963  214.497165  214.157158  \n",
       "27  217.313565  216.387792  215.715788  215.229345  \n",
       "28  218.999408  217.883618  217.046849  216.419637  \n",
       "29  220.707504  219.443637  218.462219  217.703647  \n",
       "30  222.449867  221.066376  219.956693  219.075471  \n",
       "31  223.844569  222.458275  221.292149  220.335221  \n",
       "32  225.193246  223.816356  222.611839  221.594451  \n",
       "33  226.479359  225.125164  223.899789  222.837307  "
      ]
     },
     "execution_count": 364,
     "metadata": {},
     "output_type": "execute_result"
    }
   ],
   "source": [
    "forecastTX, forecastTY = models.forecast(forecastX, forecastY, N)\n",
    "forecastTX"
   ]
  },
  {
   "cell_type": "code",
   "execution_count": 365,
   "metadata": {},
   "outputs": [
    {
     "data": {
      "text/html": [
       "<div>\n",
       "<style scoped>\n",
       "    .dataframe tbody tr th:only-of-type {\n",
       "        vertical-align: middle;\n",
       "    }\n",
       "\n",
       "    .dataframe tbody tr th {\n",
       "        vertical-align: top;\n",
       "    }\n",
       "\n",
       "    .dataframe thead th {\n",
       "        text-align: right;\n",
       "    }\n",
       "</style>\n",
       "<table border=\"1\" class=\"dataframe\">\n",
       "  <thead>\n",
       "    <tr style=\"text-align: right;\">\n",
       "      <th></th>\n",
       "      <th>CGM</th>\n",
       "    </tr>\n",
       "  </thead>\n",
       "  <tbody>\n",
       "    <tr>\n",
       "      <th>0</th>\n",
       "      <td>210.097565</td>\n",
       "    </tr>\n",
       "    <tr>\n",
       "      <th>1</th>\n",
       "      <td>211.466522</td>\n",
       "    </tr>\n",
       "    <tr>\n",
       "      <th>2</th>\n",
       "      <td>212.100418</td>\n",
       "    </tr>\n",
       "    <tr>\n",
       "      <th>3</th>\n",
       "      <td>212.189224</td>\n",
       "    </tr>\n",
       "    <tr>\n",
       "      <th>4</th>\n",
       "      <td>212.221878</td>\n",
       "    </tr>\n",
       "    <tr>\n",
       "      <th>5</th>\n",
       "      <td>212.251419</td>\n",
       "    </tr>\n",
       "    <tr>\n",
       "      <th>6</th>\n",
       "      <td>212.282623</td>\n",
       "    </tr>\n",
       "    <tr>\n",
       "      <th>7</th>\n",
       "      <td>212.282623</td>\n",
       "    </tr>\n",
       "    <tr>\n",
       "      <th>8</th>\n",
       "      <td>212.282623</td>\n",
       "    </tr>\n",
       "    <tr>\n",
       "      <th>9</th>\n",
       "      <td>212.154251</td>\n",
       "    </tr>\n",
       "    <tr>\n",
       "      <th>10</th>\n",
       "      <td>212.166245</td>\n",
       "    </tr>\n",
       "    <tr>\n",
       "      <th>11</th>\n",
       "      <td>212.092255</td>\n",
       "    </tr>\n",
       "  </tbody>\n",
       "</table>\n",
       "</div>"
      ],
      "text/plain": [
       "           CGM\n",
       "0   210.097565\n",
       "1   211.466522\n",
       "2   212.100418\n",
       "3   212.189224\n",
       "4   212.221878\n",
       "5   212.251419\n",
       "6   212.282623\n",
       "7   212.282623\n",
       "8   212.282623\n",
       "9   212.154251\n",
       "10  212.166245\n",
       "11  212.092255"
      ]
     },
     "execution_count": 365,
     "metadata": {},
     "output_type": "execute_result"
    }
   ],
   "source": [
    "forecastTY"
   ]
  },
  {
   "cell_type": "code",
   "execution_count": 361,
   "metadata": {},
   "outputs": [
    {
     "data": {
      "text/html": [
       "<div>\n",
       "<style scoped>\n",
       "    .dataframe tbody tr th:only-of-type {\n",
       "        vertical-align: middle;\n",
       "    }\n",
       "\n",
       "    .dataframe tbody tr th {\n",
       "        vertical-align: top;\n",
       "    }\n",
       "\n",
       "    .dataframe thead th {\n",
       "        text-align: right;\n",
       "    }\n",
       "</style>\n",
       "<table border=\"1\" class=\"dataframe\">\n",
       "  <thead>\n",
       "    <tr style=\"text-align: right;\">\n",
       "      <th></th>\n",
       "      <th>month</th>\n",
       "      <th>day</th>\n",
       "      <th>hour</th>\n",
       "      <th>minute</th>\n",
       "      <th>weekday</th>\n",
       "      <th>cgm_velo</th>\n",
       "      <th>CGM(1)</th>\n",
       "      <th>CGM(2)</th>\n",
       "      <th>CGM(3)</th>\n",
       "      <th>CGM(4)</th>\n",
       "      <th>CGM(5)</th>\n",
       "      <th>CGM(6)</th>\n",
       "    </tr>\n",
       "  </thead>\n",
       "  <tbody>\n",
       "    <tr>\n",
       "      <th>0</th>\n",
       "      <td>7</td>\n",
       "      <td>4</td>\n",
       "      <td>1</td>\n",
       "      <td>20</td>\n",
       "      <td>6</td>\n",
       "      <td>0.006667</td>\n",
       "      <td>210.0</td>\n",
       "      <td>209.0</td>\n",
       "      <td>207.666667</td>\n",
       "      <td>208.00</td>\n",
       "      <td>208.8</td>\n",
       "      <td>209.833333</td>\n",
       "    </tr>\n",
       "    <tr>\n",
       "      <th>1</th>\n",
       "      <td>7</td>\n",
       "      <td>4</td>\n",
       "      <td>1</td>\n",
       "      <td>25</td>\n",
       "      <td>6</td>\n",
       "      <td>-0.013333</td>\n",
       "      <td>206.0</td>\n",
       "      <td>208.0</td>\n",
       "      <td>208.000000</td>\n",
       "      <td>207.25</td>\n",
       "      <td>207.6</td>\n",
       "      <td>208.333333</td>\n",
       "    </tr>\n",
       "    <tr>\n",
       "      <th>2</th>\n",
       "      <td>7</td>\n",
       "      <td>4</td>\n",
       "      <td>1</td>\n",
       "      <td>30</td>\n",
       "      <td>6</td>\n",
       "      <td>-0.016667</td>\n",
       "      <td>201.0</td>\n",
       "      <td>203.5</td>\n",
       "      <td>205.666667</td>\n",
       "      <td>206.25</td>\n",
       "      <td>206.0</td>\n",
       "      <td>206.500000</td>\n",
       "    </tr>\n",
       "    <tr>\n",
       "      <th>3</th>\n",
       "      <td>7</td>\n",
       "      <td>4</td>\n",
       "      <td>1</td>\n",
       "      <td>35</td>\n",
       "      <td>6</td>\n",
       "      <td>-0.010000</td>\n",
       "      <td>198.0</td>\n",
       "      <td>199.5</td>\n",
       "      <td>201.666667</td>\n",
       "      <td>203.75</td>\n",
       "      <td>204.6</td>\n",
       "      <td>204.666667</td>\n",
       "    </tr>\n",
       "    <tr>\n",
       "      <th>4</th>\n",
       "      <td>7</td>\n",
       "      <td>4</td>\n",
       "      <td>1</td>\n",
       "      <td>40</td>\n",
       "      <td>6</td>\n",
       "      <td>-0.010000</td>\n",
       "      <td>195.0</td>\n",
       "      <td>196.5</td>\n",
       "      <td>198.000000</td>\n",
       "      <td>200.00</td>\n",
       "      <td>202.0</td>\n",
       "      <td>203.000000</td>\n",
       "    </tr>\n",
       "    <tr>\n",
       "      <th>5</th>\n",
       "      <td>7</td>\n",
       "      <td>4</td>\n",
       "      <td>1</td>\n",
       "      <td>45</td>\n",
       "      <td>6</td>\n",
       "      <td>-0.010000</td>\n",
       "      <td>192.0</td>\n",
       "      <td>193.5</td>\n",
       "      <td>195.000000</td>\n",
       "      <td>196.50</td>\n",
       "      <td>198.4</td>\n",
       "      <td>200.333333</td>\n",
       "    </tr>\n",
       "    <tr>\n",
       "      <th>6</th>\n",
       "      <td>7</td>\n",
       "      <td>4</td>\n",
       "      <td>1</td>\n",
       "      <td>50</td>\n",
       "      <td>6</td>\n",
       "      <td>-0.003333</td>\n",
       "      <td>191.0</td>\n",
       "      <td>191.5</td>\n",
       "      <td>192.666667</td>\n",
       "      <td>194.00</td>\n",
       "      <td>195.4</td>\n",
       "      <td>197.166667</td>\n",
       "    </tr>\n",
       "    <tr>\n",
       "      <th>7</th>\n",
       "      <td>7</td>\n",
       "      <td>4</td>\n",
       "      <td>1</td>\n",
       "      <td>55</td>\n",
       "      <td>6</td>\n",
       "      <td>-0.010000</td>\n",
       "      <td>188.0</td>\n",
       "      <td>189.5</td>\n",
       "      <td>190.333333</td>\n",
       "      <td>191.50</td>\n",
       "      <td>192.8</td>\n",
       "      <td>194.166667</td>\n",
       "    </tr>\n",
       "    <tr>\n",
       "      <th>8</th>\n",
       "      <td>7</td>\n",
       "      <td>4</td>\n",
       "      <td>2</td>\n",
       "      <td>0</td>\n",
       "      <td>6</td>\n",
       "      <td>-0.010000</td>\n",
       "      <td>185.0</td>\n",
       "      <td>186.5</td>\n",
       "      <td>188.000000</td>\n",
       "      <td>189.00</td>\n",
       "      <td>190.2</td>\n",
       "      <td>191.500000</td>\n",
       "    </tr>\n",
       "    <tr>\n",
       "      <th>9</th>\n",
       "      <td>7</td>\n",
       "      <td>4</td>\n",
       "      <td>2</td>\n",
       "      <td>5</td>\n",
       "      <td>6</td>\n",
       "      <td>-0.003333</td>\n",
       "      <td>184.0</td>\n",
       "      <td>184.5</td>\n",
       "      <td>185.666667</td>\n",
       "      <td>187.00</td>\n",
       "      <td>188.0</td>\n",
       "      <td>189.166667</td>\n",
       "    </tr>\n",
       "    <tr>\n",
       "      <th>10</th>\n",
       "      <td>7</td>\n",
       "      <td>4</td>\n",
       "      <td>2</td>\n",
       "      <td>10</td>\n",
       "      <td>6</td>\n",
       "      <td>-0.006667</td>\n",
       "      <td>182.0</td>\n",
       "      <td>183.0</td>\n",
       "      <td>183.666667</td>\n",
       "      <td>184.75</td>\n",
       "      <td>186.0</td>\n",
       "      <td>187.000000</td>\n",
       "    </tr>\n",
       "    <tr>\n",
       "      <th>11</th>\n",
       "      <td>7</td>\n",
       "      <td>4</td>\n",
       "      <td>2</td>\n",
       "      <td>15</td>\n",
       "      <td>6</td>\n",
       "      <td>-0.006667</td>\n",
       "      <td>180.0</td>\n",
       "      <td>181.0</td>\n",
       "      <td>182.000000</td>\n",
       "      <td>182.75</td>\n",
       "      <td>183.8</td>\n",
       "      <td>185.000000</td>\n",
       "    </tr>\n",
       "  </tbody>\n",
       "</table>\n",
       "</div>"
      ],
      "text/plain": [
       "    month  day  hour  minute  weekday  cgm_velo  CGM(1)  CGM(2)      CGM(3)  \\\n",
       "0       7    4     1      20        6  0.006667   210.0   209.0  207.666667   \n",
       "1       7    4     1      25        6 -0.013333   206.0   208.0  208.000000   \n",
       "2       7    4     1      30        6 -0.016667   201.0   203.5  205.666667   \n",
       "3       7    4     1      35        6 -0.010000   198.0   199.5  201.666667   \n",
       "4       7    4     1      40        6 -0.010000   195.0   196.5  198.000000   \n",
       "5       7    4     1      45        6 -0.010000   192.0   193.5  195.000000   \n",
       "6       7    4     1      50        6 -0.003333   191.0   191.5  192.666667   \n",
       "7       7    4     1      55        6 -0.010000   188.0   189.5  190.333333   \n",
       "8       7    4     2       0        6 -0.010000   185.0   186.5  188.000000   \n",
       "9       7    4     2       5        6 -0.003333   184.0   184.5  185.666667   \n",
       "10      7    4     2      10        6 -0.006667   182.0   183.0  183.666667   \n",
       "11      7    4     2      15        6 -0.006667   180.0   181.0  182.000000   \n",
       "\n",
       "    CGM(4)  CGM(5)      CGM(6)  \n",
       "0   208.00   208.8  209.833333  \n",
       "1   207.25   207.6  208.333333  \n",
       "2   206.25   206.0  206.500000  \n",
       "3   203.75   204.6  204.666667  \n",
       "4   200.00   202.0  203.000000  \n",
       "5   196.50   198.4  200.333333  \n",
       "6   194.00   195.4  197.166667  \n",
       "7   191.50   192.8  194.166667  \n",
       "8   189.00   190.2  191.500000  \n",
       "9   187.00   188.0  189.166667  \n",
       "10  184.75   186.0  187.000000  \n",
       "11  182.75   183.8  185.000000  "
      ]
     },
     "execution_count": 361,
     "metadata": {},
     "output_type": "execute_result"
    }
   ],
   "source": [
    "forecastXLong.reset_index(drop = True, inplace = True)\n",
    "forecastXLong"
   ]
  }
 ],
 "metadata": {
  "kernelspec": {
   "display_name": "Python 3",
   "language": "python",
   "name": "python3"
  },
  "language_info": {
   "codemirror_mode": {
    "name": "ipython",
    "version": 3
   },
   "file_extension": ".py",
   "mimetype": "text/x-python",
   "name": "python",
   "nbconvert_exporter": "python",
   "pygments_lexer": "ipython3",
   "version": "3.12.2"
  }
 },
 "nbformat": 4,
 "nbformat_minor": 2
}
