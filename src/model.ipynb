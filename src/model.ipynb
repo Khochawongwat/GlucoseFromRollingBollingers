{
 "cells": [
  {
   "cell_type": "code",
   "execution_count": 1111,
   "metadata": {},
   "outputs": [],
   "source": [
    "import importlib\n",
    "import utils\n",
    "import transformers\n",
    "import models\n",
    "import losses"
   ]
  },
  {
   "cell_type": "code",
   "execution_count": 1112,
   "metadata": {},
   "outputs": [],
   "source": [
    "from models import *\n",
    "from utils import *"
   ]
  },
  {
   "cell_type": "code",
   "execution_count": 1113,
   "metadata": {},
   "outputs": [
    {
     "data": {
      "text/plain": [
       "<module 'losses' from 'd:\\\\Documents\\\\machinelearning\\\\cgm-paper\\\\src\\\\losses.py'>"
      ]
     },
     "execution_count": 1113,
     "metadata": {},
     "output_type": "execute_result"
    }
   ],
   "source": [
    "importlib.reload(utils)\n",
    "importlib.reload(transformers)\n",
    "importlib.reload(models)\n",
    "importlib.reload(losses)"
   ]
  },
  {
   "cell_type": "code",
   "execution_count": 1114,
   "metadata": {},
   "outputs": [
    {
     "name": "stdout",
     "output_type": "stream",
     "text": [
      "Current working directory:  d:\\Documents\\machinelearning\\cgm-paper\\src\n"
     ]
    }
   ],
   "source": [
    "print(\"Current working directory: \", os.getcwd())"
   ]
  },
  {
   "cell_type": "code",
   "execution_count": 1115,
   "metadata": {},
   "outputs": [],
   "source": [
    "raw_dir = \"../data/raw\"\n",
    "tuning_dir = \"../data/tuning\""
   ]
  },
  {
   "cell_type": "code",
   "execution_count": 1116,
   "metadata": {},
   "outputs": [],
   "source": [
    "assert os.path.exists(raw_dir), \"Raw data directory not found\"\n",
    "assert os.path.exists(tuning_dir), \"Tuning data directory not found\""
   ]
  },
  {
   "cell_type": "code",
   "execution_count": 1117,
   "metadata": {},
   "outputs": [
    {
     "name": "stdout",
     "output_type": "stream",
     "text": [
      "Found 22 files in ../data/raw\n",
      "train (139415, 47)\n",
      "test (32912, 47)\n"
     ]
    }
   ],
   "source": [
    "dataset = load_data(raw_dir)"
   ]
  },
  {
   "cell_type": "code",
   "execution_count": 1118,
   "metadata": {},
   "outputs": [
    {
     "name": "stdout",
     "output_type": "stream",
     "text": [
      "Found 2 files in ../data/tuning\n",
      "train (13630, 43)\n",
      "test (3002, 43)\n"
     ]
    }
   ],
   "source": [
    "val_dataset = load_data(tuning_dir)"
   ]
  },
  {
   "cell_type": "code",
   "execution_count": 1119,
   "metadata": {},
   "outputs": [],
   "source": [
    "for key in dataset.keys():\n",
    "    val_dataset[key] = reduce_classes(val_dataset[key])\n",
    "    dataset[key] = reduce_classes(dataset[key])"
   ]
  },
  {
   "cell_type": "code",
   "execution_count": 1120,
   "metadata": {},
   "outputs": [
    {
     "data": {
      "text/plain": [
       "0"
      ]
     },
     "execution_count": 1120,
     "metadata": {},
     "output_type": "execute_result"
    }
   ],
   "source": [
    "dataset.get(\"train\")['Time'].isnull().sum()"
   ]
  },
  {
   "cell_type": "code",
   "execution_count": 1121,
   "metadata": {},
   "outputs": [
    {
     "name": "stdout",
     "output_type": "stream",
     "text": [
      "      CGM  month  day  hour  minute  weekday  cgm_velo  CGM(1)  CGM(2)  \\\n",
      "6    71.0      5   19    12       5        2  0.010000    66.0    64.5   \n",
      "7    78.0      5   19    12      10        2  0.016667    71.0    68.5   \n",
      "8    90.0      5   19    12      15        2  0.023333    78.0    74.5   \n",
      "9    99.0      5   19    12      20        2  0.040000    90.0    84.0   \n",
      "10  110.0      5   19    12      25        2  0.030000    99.0    94.5   \n",
      "\n",
      "       CGM(3)  CGM(4)  CGM(5)     CGM(6)  \n",
      "6   64.666667   65.50    66.8  68.333333  \n",
      "7   66.666667   66.25    66.6  67.500000  \n",
      "8   71.666667   69.50    68.6  68.500000  \n",
      "9   79.666667   76.25    73.6  72.166667  \n",
      "10  89.000000   84.50    80.8  77.833333  \n"
     ]
    }
   ],
   "source": [
    "train_data = get_train_dataset(dataset['train'])\n",
    "test_data = get_any_dataset(dataset['test'], dataset['train'])"
   ]
  },
  {
   "cell_type": "markdown",
   "metadata": {},
   "source": [
    "The tuning data will be merged with the training data and be fitted into the pipeline to be used for the validation data"
   ]
  },
  {
   "cell_type": "code",
   "execution_count": 1122,
   "metadata": {},
   "outputs": [],
   "source": [
    "tuning_data = get_tuning_dataset(val_dataset['train'], dataset['train'])\n",
    "val_data = get_any_dataset(val_dataset['test'], tuning_data)"
   ]
  },
  {
   "cell_type": "code",
   "execution_count": 1123,
   "metadata": {},
   "outputs": [],
   "source": [
    "models = Models()"
   ]
  },
  {
   "cell_type": "code",
   "execution_count": 1124,
   "metadata": {},
   "outputs": [
    {
     "data": {
      "text/plain": [
       "((123697, 12), (123697,))"
      ]
     },
     "execution_count": 1124,
     "metadata": {},
     "output_type": "execute_result"
    }
   ],
   "source": [
    "trainX, trainY = train_data.drop([\"CGM\"], axis = 1), train_data[\"CGM\"]\n",
    "trainX.shape, trainY.shape"
   ]
  },
  {
   "cell_type": "code",
   "execution_count": 1125,
   "metadata": {},
   "outputs": [
    {
     "data": {
      "text/plain": [
       "((28455, 12), (28455,))"
      ]
     },
     "execution_count": 1125,
     "metadata": {},
     "output_type": "execute_result"
    }
   ],
   "source": [
    "testX, testY = test_data.drop([\"CGM\"], axis = 1), test_data[\"CGM\"]\n",
    "testX.shape, testY.shape"
   ]
  },
  {
   "cell_type": "code",
   "execution_count": 1126,
   "metadata": {},
   "outputs": [
    {
     "name": "stderr",
     "output_type": "stream",
     "text": [
      "  0%|          | 0/1 [00:00<?, ?it/s]"
     ]
    },
    {
     "data": {
      "image/png": "[encoded data removed]",
      "text/plain": [
       "<Figure size 400x400 with 1 Axes>"
      ]
     },
     "metadata": {},
     "output_type": "display_data"
    },
    {
     "name": "stderr",
     "output_type": "stream",
     "text": [
      "100%|██████████| 1/1 [00:00<00:00,  5.66it/s]"
     ]
    },
    {
     "name": "stdout",
     "output_type": "stream",
     "text": [
      "Ridge MSE: 19.413260272622868, RMSE: 4.406048146879794, MSPE: 0.0862696812822765 %\n"
     ]
    },
    {
     "name": "stderr",
     "output_type": "stream",
     "text": [
      "\n"
     ]
    }
   ],
   "source": [
    "models.fit(trainX, trainY, testX, testY)"
   ]
  },
  {
   "cell_type": "code",
   "execution_count": 1127,
   "metadata": {},
   "outputs": [
    {
     "name": "stdout",
     "output_type": "stream",
     "text": [
      "   month  day  hour  minute  weekday  cgm_velo  CGM(1)  CGM(2)      CGM(3)  \\\n",
      "0      1   23    20      50        6 -0.006667   152.0   153.0  154.000000   \n",
      "1      1   23    20      55        6 -0.006667   150.0   151.0  152.000000   \n",
      "2      1   23    21       0        6 -0.003333   149.0   149.5  150.333333   \n",
      "3      1   23    21       5        6 -0.003333   148.0   148.5  149.000000   \n",
      "4      1   23    21      10        6  0.010000   151.0   149.5  149.333333   \n",
      "5      1   23    21      15        6 -0.006667   149.0   150.0  149.333333   \n",
      "6      1   23    21      20        6       NaN     NaN     NaN         NaN   \n",
      "\n",
      "   CGM(4)  CGM(5)      CGM(6)                Time  \n",
      "0  155.25   156.0  156.666667 2028-01-23 20:50:00  \n",
      "1  153.00   154.2  155.000000 2028-01-23 20:55:00  \n",
      "2  151.25   152.2  153.333333 2028-01-23 21:00:00  \n",
      "3  149.75   150.6  151.500000 2028-01-23 21:05:00  \n",
      "4  149.50   150.0  150.666667 2028-01-23 21:10:00  \n",
      "5  149.25   149.4  149.833333 2028-01-23 21:15:00  \n",
      "6     NaN     NaN         NaN 2028-01-23 21:20:00  \n"
     ]
    },
    {
     "data": {
      "text/html": [
       "<div>\n",
       "<style scoped>\n",
       "    .dataframe tbody tr th:only-of-type {\n",
       "        vertical-align: middle;\n",
       "    }\n",
       "\n",
       "    .dataframe tbody tr th {\n",
       "        vertical-align: top;\n",
       "    }\n",
       "\n",
       "    .dataframe thead th {\n",
       "        text-align: right;\n",
       "    }\n",
       "</style>\n",
       "<table border=\"1\" class=\"dataframe\">\n",
       "  <thead>\n",
       "    <tr style=\"text-align: right;\">\n",
       "      <th></th>\n",
       "      <th>CGM</th>\n",
       "    </tr>\n",
       "  </thead>\n",
       "  <tbody>\n",
       "    <tr>\n",
       "      <th>0</th>\n",
       "      <td>147.706841</td>\n",
       "    </tr>\n",
       "  </tbody>\n",
       "</table>\n",
       "</div>"
      ],
      "text/plain": [
       "          CGM\n",
       "0  147.706841"
      ]
     },
     "execution_count": 1127,
     "metadata": {},
     "output_type": "execute_result"
    }
   ],
   "source": [
    "models.forecast(testX, testY, 3)"
   ]
  }
 ],
 "metadata": {
  "kernelspec": {
   "display_name": "Python 3",
   "language": "python",
   "name": "python3"
  },
  "language_info": {
   "codemirror_mode": {
    "name": "ipython",
    "version": 3
   },
   "file_extension": ".py",
   "mimetype": "text/x-python",
   "name": "python",
   "nbconvert_exporter": "python",
   "pygments_lexer": "ipython3",
   "version": "3.12.2"
  }
 },
 "nbformat": 4,
 "nbformat_minor": 2
}
