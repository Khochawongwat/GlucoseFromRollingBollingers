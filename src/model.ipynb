{
 "cells": [
  {
   "cell_type": "code",
   "execution_count": 770,
   "metadata": {},
   "outputs": [],
   "source": [
    "import importlib\n",
    "import utils\n",
    "import transformers\n",
    "import model\n",
    "import losses\n",
    "\n",
    "from sklearn.metrics import mean_squared_error"
   ]
  },
  {
   "cell_type": "code",
   "execution_count": 771,
   "metadata": {},
   "outputs": [],
   "source": [
    "from model import *\n",
    "from utils import *"
   ]
  },
  {
   "cell_type": "code",
   "execution_count": 772,
   "metadata": {},
   "outputs": [
    {
     "data": {
      "text/plain": [
       "<module 'losses' from 'd:\\\\Documents\\\\machinelearning\\\\cgm-paper\\\\src\\\\losses.py'>"
      ]
     },
     "execution_count": 772,
     "metadata": {},
     "output_type": "execute_result"
    }
   ],
   "source": [
    "importlib.reload(utils)\n",
    "importlib.reload(transformers)\n",
    "importlib.reload(model)\n",
    "importlib.reload(losses)"
   ]
  },
  {
   "cell_type": "code",
   "execution_count": 773,
   "metadata": {},
   "outputs": [
    {
     "name": "stdout",
     "output_type": "stream",
     "text": [
      "Current working directory:  d:\\Documents\\machinelearning\\cgm-paper\\src\n"
     ]
    }
   ],
   "source": [
    "print(\"Current working directory: \", os.getcwd())"
   ]
  },
  {
   "cell_type": "code",
   "execution_count": 774,
   "metadata": {},
   "outputs": [],
   "source": [
    "raw_dir = \"../data/raw\"\n",
    "tuning_dir = \"../data/tuning\""
   ]
  },
  {
   "cell_type": "code",
   "execution_count": 775,
   "metadata": {},
   "outputs": [],
   "source": [
    "assert os.path.exists(raw_dir), \"Raw data directory not found\"\n",
    "assert os.path.exists(tuning_dir), \"Tuning data directory not found\""
   ]
  },
  {
   "cell_type": "code",
   "execution_count": 776,
   "metadata": {},
   "outputs": [
    {
     "name": "stdout",
     "output_type": "stream",
     "text": [
      "Found 22 files in ../data/raw\n"
     ]
    },
    {
     "name": "stdout",
     "output_type": "stream",
     "text": [
      "train (139415, 47)\n",
      "test (32912, 47)\n"
     ]
    }
   ],
   "source": [
    "dataset = load_data(raw_dir)"
   ]
  },
  {
   "cell_type": "code",
   "execution_count": 777,
   "metadata": {},
   "outputs": [
    {
     "name": "stdout",
     "output_type": "stream",
     "text": [
      "Found 2 files in ../data/tuning\n",
      "train (13630, 43)\n",
      "test (3002, 43)\n"
     ]
    }
   ],
   "source": [
    "val_dataset = load_data(tuning_dir)"
   ]
  },
  {
   "cell_type": "code",
   "execution_count": 778,
   "metadata": {},
   "outputs": [],
   "source": [
    "for key in dataset.keys():\n",
    "    val_dataset[key] = reduce_classes(val_dataset[key])\n",
    "    dataset[key] = reduce_classes(dataset[key])"
   ]
  },
  {
   "cell_type": "code",
   "execution_count": 779,
   "metadata": {},
   "outputs": [
    {
     "data": {
      "text/plain": [
       "0"
      ]
     },
     "execution_count": 779,
     "metadata": {},
     "output_type": "execute_result"
    }
   ],
   "source": [
    "dataset.get(\"train\")['Time'].isnull().sum()"
   ]
  },
  {
   "cell_type": "code",
   "execution_count": 780,
   "metadata": {},
   "outputs": [
    {
     "name": "stdout",
     "output_type": "stream",
     "text": [
      "      CGM  month  day  hour  minute  weekday  year  cgm_velo  change  \\\n",
      "24  129.0      5   19    13      35        2  2027  0.003333     1.0   \n",
      "25  127.0      5   19    13      40        2  2027  0.000000     0.0   \n",
      "26  124.0      5   19    13      45        2  2027 -0.006667    -2.0   \n",
      "27  123.0      5   19    13      50        2  2027 -0.010000    -3.0   \n",
      "28  124.0      5   19    13      55        2  2027 -0.003333    -1.0   \n",
      "\n",
      "    upper_band  ...  extreme_CGM_80  extreme_CGM_85  extreme_CGM_90  \\\n",
      "24  198.092207  ...               0               0               0   \n",
      "25  198.840303  ...               0               0               0   \n",
      "26  198.288080  ...               0               0               0   \n",
      "27  196.078435  ...               0               0               0   \n",
      "28  192.197842  ...               0               0               0   \n",
      "\n",
      "    extreme_CGM_95  wCGM(1)     wCGM(2)     wCGM(3)  wCGM(4)     wCGM(5)  \\\n",
      "24               0    129.0  128.333333  127.666667    127.8  126.866667   \n",
      "25               0    129.0  129.000000  128.500000    127.9  127.933333   \n",
      "26               0    127.0  128.333333  128.666667    128.4  127.933333   \n",
      "27               0    124.0  126.000000  127.500000    128.1  128.066667   \n",
      "28               0    123.0  123.666667  125.333333    126.8  127.533333   \n",
      "\n",
      "       wCGM(6)  \n",
      "24  129.476190  \n",
      "25  127.095238  \n",
      "26  127.952381  \n",
      "27  127.761905  \n",
      "28  127.666667  \n",
      "\n",
      "[5 rows x 21 columns]\n"
     ]
    }
   ],
   "source": [
    "train_data = get_train_dataset(dataset['train'])\n",
    "test_data = get_any_dataset(dataset['test'], dataset['train'])"
   ]
  },
  {
   "cell_type": "markdown",
   "metadata": {},
   "source": [
    "The tuning data will be merged with the training data and be fitted into the pipeline to be used for the validation data"
   ]
  },
  {
   "cell_type": "code",
   "execution_count": 781,
   "metadata": {},
   "outputs": [],
   "source": [
    "tuning_data = get_tuning_dataset(val_dataset['train'], dataset['train'])\n",
    "val_data = get_any_dataset(val_dataset['test'], tuning_data)"
   ]
  },
  {
   "cell_type": "code",
   "execution_count": 782,
   "metadata": {},
   "outputs": [
    {
     "data": {
      "text/plain": [
       "((120010, 20), (120010,))"
      ]
     },
     "execution_count": 782,
     "metadata": {},
     "output_type": "execute_result"
    }
   ],
   "source": [
    "trainX, trainY = train_data.drop([\"CGM\"], axis = 1), train_data[\"CGM\"]\n",
    "trainX.shape, trainY.shape"
   ]
  },
  {
   "cell_type": "code",
   "execution_count": 783,
   "metadata": {},
   "outputs": [
    {
     "data": {
      "text/plain": [
       "((26845, 20), (26845,))"
      ]
     },
     "execution_count": 783,
     "metadata": {},
     "output_type": "execute_result"
    }
   ],
   "source": [
    "testX, testY = test_data.drop([\"CGM\"], axis = 1), test_data[\"CGM\"]\n",
    "testX.shape, testY.shape"
   ]
  },
  {
   "cell_type": "code",
   "execution_count": 784,
   "metadata": {},
   "outputs": [
    {
     "data": {
      "text/html": [
       "<div>\n",
       "<style scoped>\n",
       "    .dataframe tbody tr th:only-of-type {\n",
       "        vertical-align: middle;\n",
       "    }\n",
       "\n",
       "    .dataframe tbody tr th {\n",
       "        vertical-align: top;\n",
       "    }\n",
       "\n",
       "    .dataframe thead th {\n",
       "        text-align: right;\n",
       "    }\n",
       "</style>\n",
       "<table border=\"1\" class=\"dataframe\">\n",
       "  <thead>\n",
       "    <tr style=\"text-align: right;\">\n",
       "      <th></th>\n",
       "      <th>month</th>\n",
       "      <th>day</th>\n",
       "      <th>hour</th>\n",
       "      <th>minute</th>\n",
       "      <th>weekday</th>\n",
       "      <th>year</th>\n",
       "      <th>cgm_velo</th>\n",
       "      <th>change</th>\n",
       "      <th>upper_band</th>\n",
       "      <th>lower_band</th>\n",
       "      <th>extreme_CGM_80</th>\n",
       "      <th>extreme_CGM_85</th>\n",
       "      <th>extreme_CGM_90</th>\n",
       "      <th>extreme_CGM_95</th>\n",
       "      <th>wCGM(1)</th>\n",
       "      <th>wCGM(2)</th>\n",
       "      <th>wCGM(3)</th>\n",
       "      <th>wCGM(4)</th>\n",
       "      <th>wCGM(5)</th>\n",
       "      <th>wCGM(6)</th>\n",
       "    </tr>\n",
       "  </thead>\n",
       "  <tbody>\n",
       "    <tr>\n",
       "      <th>32902</th>\n",
       "      <td>1</td>\n",
       "      <td>23</td>\n",
       "      <td>20</td>\n",
       "      <td>30</td>\n",
       "      <td>6</td>\n",
       "      <td>2022</td>\n",
       "      <td>-0.003333</td>\n",
       "      <td>-1.0</td>\n",
       "      <td>255.454615</td>\n",
       "      <td>125.378718</td>\n",
       "      <td>0</td>\n",
       "      <td>0</td>\n",
       "      <td>0</td>\n",
       "      <td>0</td>\n",
       "      <td>159.0</td>\n",
       "      <td>159.666667</td>\n",
       "      <td>161.333333</td>\n",
       "      <td>162.4</td>\n",
       "      <td>163.600000</td>\n",
       "      <td>165.714286</td>\n",
       "    </tr>\n",
       "    <tr>\n",
       "      <th>32903</th>\n",
       "      <td>1</td>\n",
       "      <td>23</td>\n",
       "      <td>20</td>\n",
       "      <td>35</td>\n",
       "      <td>6</td>\n",
       "      <td>2022</td>\n",
       "      <td>0.000000</td>\n",
       "      <td>0.0</td>\n",
       "      <td>249.763697</td>\n",
       "      <td>125.069636</td>\n",
       "      <td>0</td>\n",
       "      <td>0</td>\n",
       "      <td>0</td>\n",
       "      <td>0</td>\n",
       "      <td>159.0</td>\n",
       "      <td>159.000000</td>\n",
       "      <td>159.500000</td>\n",
       "      <td>160.9</td>\n",
       "      <td>161.933333</td>\n",
       "      <td>163.095238</td>\n",
       "    </tr>\n",
       "    <tr>\n",
       "      <th>32904</th>\n",
       "      <td>1</td>\n",
       "      <td>23</td>\n",
       "      <td>20</td>\n",
       "      <td>40</td>\n",
       "      <td>6</td>\n",
       "      <td>2022</td>\n",
       "      <td>-0.010000</td>\n",
       "      <td>-3.0</td>\n",
       "      <td>244.899161</td>\n",
       "      <td>124.184172</td>\n",
       "      <td>0</td>\n",
       "      <td>0</td>\n",
       "      <td>0</td>\n",
       "      <td>0</td>\n",
       "      <td>156.0</td>\n",
       "      <td>158.000000</td>\n",
       "      <td>158.500000</td>\n",
       "      <td>159.1</td>\n",
       "      <td>160.400000</td>\n",
       "      <td>161.428571</td>\n",
       "    </tr>\n",
       "    <tr>\n",
       "      <th>32905</th>\n",
       "      <td>1</td>\n",
       "      <td>23</td>\n",
       "      <td>20</td>\n",
       "      <td>45</td>\n",
       "      <td>6</td>\n",
       "      <td>2022</td>\n",
       "      <td>-0.006667</td>\n",
       "      <td>-2.0</td>\n",
       "      <td>239.876988</td>\n",
       "      <td>123.539679</td>\n",
       "      <td>0</td>\n",
       "      <td>0</td>\n",
       "      <td>0</td>\n",
       "      <td>0</td>\n",
       "      <td>154.0</td>\n",
       "      <td>155.333333</td>\n",
       "      <td>157.166667</td>\n",
       "      <td>157.9</td>\n",
       "      <td>158.600000</td>\n",
       "      <td>159.857143</td>\n",
       "    </tr>\n",
       "    <tr>\n",
       "      <th>32906</th>\n",
       "      <td>1</td>\n",
       "      <td>23</td>\n",
       "      <td>20</td>\n",
       "      <td>50</td>\n",
       "      <td>6</td>\n",
       "      <td>2022</td>\n",
       "      <td>-0.006667</td>\n",
       "      <td>-2.0</td>\n",
       "      <td>235.326687</td>\n",
       "      <td>122.673313</td>\n",
       "      <td>0</td>\n",
       "      <td>0</td>\n",
       "      <td>0</td>\n",
       "      <td>0</td>\n",
       "      <td>152.0</td>\n",
       "      <td>153.333333</td>\n",
       "      <td>154.666667</td>\n",
       "      <td>156.4</td>\n",
       "      <td>157.266667</td>\n",
       "      <td>158.047619</td>\n",
       "    </tr>\n",
       "    <tr>\n",
       "      <th>32907</th>\n",
       "      <td>1</td>\n",
       "      <td>23</td>\n",
       "      <td>20</td>\n",
       "      <td>55</td>\n",
       "      <td>6</td>\n",
       "      <td>2022</td>\n",
       "      <td>-0.006667</td>\n",
       "      <td>-2.0</td>\n",
       "      <td>231.007617</td>\n",
       "      <td>121.742383</td>\n",
       "      <td>0</td>\n",
       "      <td>0</td>\n",
       "      <td>0</td>\n",
       "      <td>0</td>\n",
       "      <td>150.0</td>\n",
       "      <td>151.333333</td>\n",
       "      <td>152.666667</td>\n",
       "      <td>154.0</td>\n",
       "      <td>155.666667</td>\n",
       "      <td>156.619048</td>\n",
       "    </tr>\n",
       "    <tr>\n",
       "      <th>32908</th>\n",
       "      <td>1</td>\n",
       "      <td>23</td>\n",
       "      <td>21</td>\n",
       "      <td>0</td>\n",
       "      <td>6</td>\n",
       "      <td>2022</td>\n",
       "      <td>-0.003333</td>\n",
       "      <td>-1.0</td>\n",
       "      <td>226.195461</td>\n",
       "      <td>121.387873</td>\n",
       "      <td>0</td>\n",
       "      <td>0</td>\n",
       "      <td>0</td>\n",
       "      <td>0</td>\n",
       "      <td>149.0</td>\n",
       "      <td>149.666667</td>\n",
       "      <td>150.833333</td>\n",
       "      <td>152.1</td>\n",
       "      <td>153.400000</td>\n",
       "      <td>155.000000</td>\n",
       "    </tr>\n",
       "    <tr>\n",
       "      <th>32909</th>\n",
       "      <td>1</td>\n",
       "      <td>23</td>\n",
       "      <td>21</td>\n",
       "      <td>5</td>\n",
       "      <td>6</td>\n",
       "      <td>2022</td>\n",
       "      <td>-0.003333</td>\n",
       "      <td>-1.0</td>\n",
       "      <td>221.190096</td>\n",
       "      <td>121.393237</td>\n",
       "      <td>0</td>\n",
       "      <td>0</td>\n",
       "      <td>0</td>\n",
       "      <td>0</td>\n",
       "      <td>148.0</td>\n",
       "      <td>148.666667</td>\n",
       "      <td>149.333333</td>\n",
       "      <td>150.4</td>\n",
       "      <td>151.600000</td>\n",
       "      <td>152.857143</td>\n",
       "    </tr>\n",
       "    <tr>\n",
       "      <th>32910</th>\n",
       "      <td>1</td>\n",
       "      <td>23</td>\n",
       "      <td>21</td>\n",
       "      <td>10</td>\n",
       "      <td>6</td>\n",
       "      <td>2022</td>\n",
       "      <td>0.010000</td>\n",
       "      <td>3.0</td>\n",
       "      <td>217.096903</td>\n",
       "      <td>121.403097</td>\n",
       "      <td>0</td>\n",
       "      <td>0</td>\n",
       "      <td>0</td>\n",
       "      <td>0</td>\n",
       "      <td>151.0</td>\n",
       "      <td>149.000000</td>\n",
       "      <td>149.000000</td>\n",
       "      <td>149.4</td>\n",
       "      <td>150.266667</td>\n",
       "      <td>151.333333</td>\n",
       "    </tr>\n",
       "    <tr>\n",
       "      <th>32911</th>\n",
       "      <td>1</td>\n",
       "      <td>23</td>\n",
       "      <td>21</td>\n",
       "      <td>15</td>\n",
       "      <td>6</td>\n",
       "      <td>2022</td>\n",
       "      <td>-0.006667</td>\n",
       "      <td>-2.0</td>\n",
       "      <td>213.194437</td>\n",
       "      <td>121.305563</td>\n",
       "      <td>0</td>\n",
       "      <td>0</td>\n",
       "      <td>0</td>\n",
       "      <td>0</td>\n",
       "      <td>149.0</td>\n",
       "      <td>150.333333</td>\n",
       "      <td>149.166667</td>\n",
       "      <td>149.1</td>\n",
       "      <td>149.400000</td>\n",
       "      <td>150.142857</td>\n",
       "    </tr>\n",
       "  </tbody>\n",
       "</table>\n",
       "</div>"
      ],
      "text/plain": [
       "       month  day  hour  minute  weekday  year  cgm_velo  change  upper_band  \\\n",
       "32902      1   23    20      30        6  2022 -0.003333    -1.0  255.454615   \n",
       "32903      1   23    20      35        6  2022  0.000000     0.0  249.763697   \n",
       "32904      1   23    20      40        6  2022 -0.010000    -3.0  244.899161   \n",
       "32905      1   23    20      45        6  2022 -0.006667    -2.0  239.876988   \n",
       "32906      1   23    20      50        6  2022 -0.006667    -2.0  235.326687   \n",
       "32907      1   23    20      55        6  2022 -0.006667    -2.0  231.007617   \n",
       "32908      1   23    21       0        6  2022 -0.003333    -1.0  226.195461   \n",
       "32909      1   23    21       5        6  2022 -0.003333    -1.0  221.190096   \n",
       "32910      1   23    21      10        6  2022  0.010000     3.0  217.096903   \n",
       "32911      1   23    21      15        6  2022 -0.006667    -2.0  213.194437   \n",
       "\n",
       "       lower_band  extreme_CGM_80  extreme_CGM_85  extreme_CGM_90  \\\n",
       "32902  125.378718               0               0               0   \n",
       "32903  125.069636               0               0               0   \n",
       "32904  124.184172               0               0               0   \n",
       "32905  123.539679               0               0               0   \n",
       "32906  122.673313               0               0               0   \n",
       "32907  121.742383               0               0               0   \n",
       "32908  121.387873               0               0               0   \n",
       "32909  121.393237               0               0               0   \n",
       "32910  121.403097               0               0               0   \n",
       "32911  121.305563               0               0               0   \n",
       "\n",
       "       extreme_CGM_95  wCGM(1)     wCGM(2)     wCGM(3)  wCGM(4)     wCGM(5)  \\\n",
       "32902               0    159.0  159.666667  161.333333    162.4  163.600000   \n",
       "32903               0    159.0  159.000000  159.500000    160.9  161.933333   \n",
       "32904               0    156.0  158.000000  158.500000    159.1  160.400000   \n",
       "32905               0    154.0  155.333333  157.166667    157.9  158.600000   \n",
       "32906               0    152.0  153.333333  154.666667    156.4  157.266667   \n",
       "32907               0    150.0  151.333333  152.666667    154.0  155.666667   \n",
       "32908               0    149.0  149.666667  150.833333    152.1  153.400000   \n",
       "32909               0    148.0  148.666667  149.333333    150.4  151.600000   \n",
       "32910               0    151.0  149.000000  149.000000    149.4  150.266667   \n",
       "32911               0    149.0  150.333333  149.166667    149.1  149.400000   \n",
       "\n",
       "          wCGM(6)  \n",
       "32902  165.714286  \n",
       "32903  163.095238  \n",
       "32904  161.428571  \n",
       "32905  159.857143  \n",
       "32906  158.047619  \n",
       "32907  156.619048  \n",
       "32908  155.000000  \n",
       "32909  152.857143  \n",
       "32910  151.333333  \n",
       "32911  150.142857  "
      ]
     },
     "execution_count": 784,
     "metadata": {},
     "output_type": "execute_result"
    }
   ],
   "source": [
    "testX.tail(10)"
   ]
  },
  {
   "cell_type": "code",
   "execution_count": 785,
   "metadata": {},
   "outputs": [
    {
     "name": "stdout",
     "output_type": "stream",
     "text": [
      "Base fitted with columns: Index(['month', 'day', 'hour', 'minute', 'weekday', 'year', 'cgm_velo',\n",
      "       'change', 'upper_band', 'lower_band', 'extreme_CGM_80',\n",
      "       'extreme_CGM_85', 'extreme_CGM_90', 'extreme_CGM_95', 'wCGM(1)',\n",
      "       'wCGM(2)', 'wCGM(3)', 'wCGM(4)', 'wCGM(5)', 'wCGM(6)', 'direction'],\n",
      "      dtype='object')\n",
      "Base: (16.310628829993405, 4.038641953676186, 0.07717436084120757)\n",
      "Base + Residuals: (16.22567359857144, 4.028110425319971, 0.07682759989046015) Change: 4.299411006169905%\n"
     ]
    }
   ],
   "source": [
    "model = HybridModel()\n",
    "model.fit(trainX, trainY, testX, testY, eval = True, tune = False)"
   ]
  },
  {
   "cell_type": "code",
   "execution_count": 786,
   "metadata": {},
   "outputs": [],
   "source": [
    "from sklearn.metrics import mean_squared_error\n",
    "\n",
    "\n",
    "def plot_forecast(y, n_steps = 12, lookback = 12, use_confi = True):\n",
    "    result = model.forecast(testX.iloc[:-n_steps], n_steps = n_steps, return_X = False, use_confi = use_confi)\n",
    "    forecast = result[\"forecasts\"]\n",
    "    actual = y.iloc[-n_steps - lookback:].reset_index(drop = True)\n",
    "    plt.figure(figsize = (15, 5))\n",
    "    if use_confi:\n",
    "        confi_int = result[\"confi_forecasts\"]\n",
    "        plt.plot(np.arange(lookback, len(forecast) + lookback), confi_int['Median'], label = \"Median\", color = \"red\")\n",
    "        plt.fill_between(np.arange(lookback, len(forecast) + lookback), confi_int[\"Lower\"], confi_int[\"Upper\"], color = \"red\", alpha = 0.15)\n",
    "\n",
    "    plt.plot(actual, label = \"Actual\", color = \"blue\")\n",
    "    plt.plot(np.arange(lookback, len(forecast) + lookback), forecast, label = \"Forecast\", color = \"red\")\n",
    "    plt.legend()\n",
    "    plt.show()\n",
    "    \n",
    "    print(\"RMSE\", np.sqrt(mean_squared_error(actual.iloc[lookback:], forecast)))"
   ]
  },
  {
   "cell_type": "code",
   "execution_count": 787,
   "metadata": {},
   "outputs": [
    {
     "name": "stderr",
     "output_type": "stream",
     "text": [
      "Forecasting: 100%|██████████| 12/12 [00:02<00:00,  4.34it/s]\n"
     ]
    },
    {
     "data": {
      "image/png": "[encoded data removed]",
      "text/plain": [
       "<Figure size 1500x500 with 1 Axes>"
      ]
     },
     "metadata": {},
     "output_type": "display_data"
    },
    {
     "name": "stdout",
     "output_type": "stream",
     "text": [
      "RMSE 4.8287174146525444\n"
     ]
    }
   ],
   "source": [
    "plot_forecast(testY, n_steps = 12, lookback= 12, use_confi = True)"
   ]
  }
 ],
 "metadata": {
  "kernelspec": {
   "display_name": "Python 3",
   "language": "python",
   "name": "python3"
  },
  "language_info": {
   "codemirror_mode": {
    "name": "ipython",
    "version": 3
   },
   "file_extension": ".py",
   "mimetype": "text/x-python",
   "name": "python",
   "nbconvert_exporter": "python",
   "pygments_lexer": "ipython3",
   "version": "3.12.2"
  }
 },
 "nbformat": 4,
 "nbformat_minor": 2
}
