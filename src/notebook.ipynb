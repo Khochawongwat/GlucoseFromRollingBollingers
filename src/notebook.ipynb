{
 "cells": [
  {
   "cell_type": "code",
   "execution_count": 65,
   "metadata": {},
   "outputs": [],
   "source": [
    "import model\n",
    "import importlib\n",
    "import utils\n",
    "import processors\n",
    "import pickle\n",
    "import os\n",
    "from sklearn.model_selection import ParameterGrid\n",
    "import numpy as np\n",
    "import matplotlib.pyplot as plt"
   ]
  },
  {
   "cell_type": "code",
   "execution_count": 66,
   "metadata": {},
   "outputs": [],
   "source": [
    "importlib.reload(model);\n",
    "importlib.reload(processors)\n",
    "importlib.reload(utils);"
   ]
  },
  {
   "cell_type": "code",
   "execution_count": 67,
   "metadata": {},
   "outputs": [],
   "source": [
    "SAVE = False"
   ]
  },
  {
   "cell_type": "code",
   "execution_count": 68,
   "metadata": {},
   "outputs": [
    {
     "name": "stdout",
     "output_type": "stream",
     "text": [
      "Found 24 files in ../data/raw\n",
      "ohio540 Train: (13109, 43) Test: (3066, 43)\n",
      "ohio544 Train: (12672, 43) Test: (3136, 43)\n",
      "ohio552 Train: (11098, 43) Test: (3950, 43)\n",
      "ohio559 Train: (12081, 46) Test: (2877, 46)\n",
      "ohio563 Train: (13097, 46) Test: (2692, 46)\n",
      "ohio567 Train: (13536, 43) Test: (2870, 43)\n",
      "ohio570 Train: (11611, 46) Test: (2879, 46)\n",
      "ohio575 Train: (13103, 46) Test: (2719, 46)\n",
      "ohio584 Train: (13247, 43) Test: (2995, 43)\n",
      "ohio588 Train: (13105, 46) Test: (2881, 46)\n",
      "ohio591 Train: (12756, 46) Test: (2847, 46)\n",
      "ohio596 Train: (13630, 43) Test: (3002, 43)\n"
     ]
    }
   ],
   "source": [
    "if SAVE and os.path.exists(\"dataloader.pkl\"):\n",
    "    with open('dataloader.pkl', 'rb') as f:\n",
    "        dataloader = pickle.load(f)\n",
    "else:\n",
    "    dataloader = utils.DataLoader(\"../data/raw\")\n",
    "    dataloader.load()\n",
    "    dataloader.cut(\"Time\", \"CGM\")\n",
    "    dataloader.process()\n",
    "    \n",
    "if SAVE:\n",
    "    with open('dataloader.pkl', 'wb') as f:\n",
    "        pickle.dump(dataloader, f)"
   ]
  },
  {
   "cell_type": "code",
   "execution_count": 69,
   "metadata": {},
   "outputs": [],
   "source": [
    "TUNE = False\n",
    "\n",
    "if TUNE:\n",
    "    param_grid = {'window_size': list(range(5, 20)), 'std': [0.5, 1.0, 1.5, 2.0]}\n",
    "    grid = list(ParameterGrid(param_grid))\n",
    "\n",
    "    best_rmse = float('inf')\n",
    "    best_params = None\n",
    "    \n",
    "    for params in grid:\n",
    "        m = model.Model(\"CGM\", dataloader, window_size=params['window_size'], std=params['std'])\n",
    "        m.fit()\n",
    "        RMSE = []\n",
    "        skip = 24\n",
    "        for i in range(len(dataloader['test'])):\n",
    "            predictions = m.predict(dataloader['test'][i]).values[skip:]\n",
    "            RMSE.append(np.sqrt(np.mean((dataloader['test'][i]['CGM'].values[skip:] - predictions)**2)))\n",
    "        mean_rmse = np.mean(RMSE)\n",
    "        print(f\"window_size: {params['window_size']}, std: {params['std']}, RMSE: {mean_rmse}\")\n",
    "        if mean_rmse < best_rmse:\n",
    "            best_rmse = mean_rmse\n",
    "            best_params = params\n",
    "\n",
    "    print(f\"Best parameters: {best_params}, Best RMSE: {best_rmse}\")"
   ]
  },
  {
   "cell_type": "code",
   "execution_count": 70,
   "metadata": {},
   "outputs": [
    {
     "name": "stdout",
     "output_type": "stream",
     "text": [
      "Fitting with features: ['upper' 'middle' 'lower' 'prev' 'prev%' 'upper%' 'middle%' 'lower%'\n",
      " 'rolling_mean_2' 'rolling_std_2' 'rolling_mean_3' 'rolling_std_3'\n",
      " 'rolling_mean_4' 'rolling_std_4' 'rolling_mean_5' 'rolling_std_5'\n",
      " 'rolling_mean_6' 'rolling_std_6' 'rolling_mean_7' 'rolling_std_7'\n",
      " 'rolling_mean_8' 'rolling_std_8' 'rolling_mean_9' 'rolling_std_9'\n",
      " 'rolling_mean_10' 'rolling_std_10' 'rolling_mean_11' 'rolling_std_11']\n"
     ]
    }
   ],
   "source": [
    "m = model.Model(\"CGM\", dataloader, window_size=17, std=2)\n",
    "m.fit()"
   ]
  },
  {
   "cell_type": "code",
   "execution_count": 71,
   "metadata": {},
   "outputs": [],
   "source": [
    "import pandas as pd\n",
    "#m.optimize_lgbm_params(pd.concat(dataloader['tune']))"
   ]
  },
  {
   "cell_type": "code",
   "execution_count": 72,
   "metadata": {},
   "outputs": [
    {
     "name": "stdout",
     "output_type": "stream",
     "text": [
      "4.323914558835572\n"
     ]
    }
   ],
   "source": [
    "m.fit()\n",
    "skip = 24\n",
    "RMSE = []\n",
    "show = False\n",
    "for i in range(len(dataloader['test'])):\n",
    "    predictions = m.predict(dataloader['test'][i]).values[skip:]\n",
    "    RMSE.append(np.sqrt(np.mean((dataloader['test'][i]['CGM'].values[skip:] - predictions)**2)))\n",
    "    if show:\n",
    "        plt.figure(figsize=(10, 6))\n",
    "        plt.plot(dataloader['test'][i]['CGM'].values[skip:], label='True')\n",
    "        plt.plot(predictions, label='Predicted')\n",
    "        plt.legend()\n",
    "        plt.show()\n",
    "mean_rmse = np.mean(RMSE)\n",
    "print(mean_rmse)"
   ]
  },
  {
   "cell_type": "code",
   "execution_count": 73,
   "metadata": {},
   "outputs": [
    {
     "name": "stdout",
     "output_type": "stream",
     "text": [
      "Forecast of 15 minutes, RMSE: 6.917870703085053\n",
      "Forecast of 30 minutes, RMSE: 10.42191638236439\n",
      "Forecast of 45 minutes, RMSE: 14.939115997595103\n",
      "Forecast of 60 minutes, RMSE: 19.062168256121335\n",
      "Forecast of 75 minutes, RMSE: 21.543625477790624\n",
      "Forecast of 90 minutes, RMSE: 23.21567331560534\n",
      "Forecast of 105 minutes, RMSE: 24.620156743871924\n",
      "Forecast of 120 minutes, RMSE: 26.16337525280427\n",
      "Forecast of 135 minutes, RMSE: 27.855939137663896\n",
      "Forecast of 150 minutes, RMSE: 29.2686077636882\n",
      "Forecast of 165 minutes, RMSE: 30.586081841759444\n",
      "Forecast of 180 minutes, RMSE: 32.08357092947492\n"
     ]
    }
   ],
   "source": [
    "from sklearn.metrics import root_mean_squared_error\n",
    "import numpy as np\n",
    "import matplotlib.pyplot as plt\n",
    "\n",
    "rmses = []\n",
    "total = []\n",
    "forecast_sizes = list(range(3, 37, 3))\n",
    "show = False\n",
    "\n",
    "for size in forecast_sizes:\n",
    "    for i in range(len(dataloader['test'])):\n",
    "        test = dataloader['test'][i][:25]\n",
    "        forecasts = m.forecast(test, size + 1)\n",
    "        truth = dataloader['test'][i]['CGM'][25:25+size]\n",
    "        if show:\n",
    "            plt.figure(figsize=(10, 6))\n",
    "            plt.plot(truth, label='Truth')\n",
    "            plt.plot(forecasts['prev'][1:], label='Predicted')\n",
    "            plt.title(root_mean_squared_error(truth, forecasts['prev'][1:]))\n",
    "            plt.legend()\n",
    "            plt.show()\n",
    "        rmse = root_mean_squared_error(truth, forecasts['prev'][1:len(truth) + 1])\n",
    "        rmses.append(rmse)\n",
    "    print(f\"Forecast of {size * 5} minutes, RMSE: {np.mean(rmses)}\")\n",
    "    total.append(np.mean(rmses))\n",
    "    rmses = []"
   ]
  },
  {
   "cell_type": "code",
   "execution_count": 75,
   "metadata": {},
   "outputs": [
    {
     "data": {
      "image/png": "[encoded data removed]",
      "text/plain": [
       "<Figure size 1000x600 with 1 Axes>"
      ]
     },
     "metadata": {},
     "output_type": "display_data"
    }
   ],
   "source": [
    "plt.figure(figsize=(10, 6))\n",
    "plt.plot([x * 5 for x in forecast_sizes], total)\n",
    "plt.ylabel(\"RMSE\")\n",
    "plt.title(\"Forecasting RMSE\")\n",
    "plt.show()"
   ]
  },
  {
   "cell_type": "code",
   "execution_count": null,
   "metadata": {},
   "outputs": [],
   "source": []
  }
 ],
 "metadata": {
  "kernelspec": {
   "display_name": "Python 3",
   "language": "python",
   "name": "python3"
  },
  "language_info": {
   "codemirror_mode": {
    "name": "ipython",
    "version": 3
   },
   "file_extension": ".py",
   "mimetype": "text/x-python",
   "name": "python",
   "nbconvert_exporter": "python",
   "pygments_lexer": "ipython3",
   "version": "3.12.2"
  }
 },
 "nbformat": 4,
 "nbformat_minor": 2
}
